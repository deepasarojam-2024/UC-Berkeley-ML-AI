{
  "cells": [
    {
      "cell_type": "code",
      "execution_count": 85,
      "metadata": {
        "id": "tgOXCzofYqgk"
      },
      "outputs": [],
      "source": [
        "# Import library to open dataset\n",
        "import opendatasets as od\n",
        "# Import python libraries\n",
        "import pandas as pd\n",
        "import numpy as np\n",
        "\n",
        "# Import libraries for visualization \n",
        "import matplotlib\n",
        "import matplotlib.pyplot as plt\n",
        "import seaborn as sns\n",
        "import plotly.express as px\n",
        "from plotly import graph_objects as go\n",
        "from wordcloud import WordCloud\n",
        "import folium"
      ]
    },
    {
      "cell_type": "code",
      "execution_count": 86,
      "metadata": {},
      "outputs": [
        {
          "ename": "KeyboardInterrupt",
          "evalue": "",
          "output_type": "error",
          "traceback": [
            "\u001b[0;31m---------------------------------------------------------------------------\u001b[0m",
            "\u001b[0;31mKeyboardInterrupt\u001b[0m                         Traceback (most recent call last)",
            "\u001b[1;32m/Users/deepasarojam/Downloads/eda.ipynb Cell 2\u001b[0m in \u001b[0;36m<cell line: 3>\u001b[0;34m()\u001b[0m\n\u001b[1;32m      <a href='vscode-notebook-cell:/Users/deepasarojam/Downloads/eda.ipynb#X36sZmlsZQ%3D%3D?line=0'>1</a>\u001b[0m \u001b[39mfrom\u001b[39;00m \u001b[39mdatetime\u001b[39;00m \u001b[39mimport\u001b[39;00m datetime\n\u001b[0;32m----> <a href='vscode-notebook-cell:/Users/deepasarojam/Downloads/eda.ipynb#X36sZmlsZQ%3D%3D?line=2'>3</a>\u001b[0m divvy_history \u001b[39m=\u001b[39m pd\u001b[39m.\u001b[39;49mread_csv(\u001b[39m'\u001b[39;49m\u001b[39m/Users/deepasarojam/Documents/Kevin Hatman - Data Viz/Data/divvy_trip_history_201909-202108.csv\u001b[39;49m\u001b[39m'\u001b[39;49m, \n\u001b[1;32m      <a href='vscode-notebook-cell:/Users/deepasarojam/Downloads/eda.ipynb#X36sZmlsZQ%3D%3D?line=3'>4</a>\u001b[0m                 parse_dates\u001b[39m=\u001b[39;49m[\u001b[39m'\u001b[39;49m\u001b[39mdate\u001b[39;49m\u001b[39m'\u001b[39;49m],\n\u001b[1;32m      <a href='vscode-notebook-cell:/Users/deepasarojam/Downloads/eda.ipynb#X36sZmlsZQ%3D%3D?line=4'>5</a>\u001b[0m                 \u001b[39m#converters={'date': lambda x: x.strftime('%Y-%m-%d')},\u001b[39;49;00m\n\u001b[1;32m      <a href='vscode-notebook-cell:/Users/deepasarojam/Downloads/eda.ipynb#X36sZmlsZQ%3D%3D?line=5'>6</a>\u001b[0m                 low_memory\u001b[39m=\u001b[39;49m\u001b[39mFalse\u001b[39;49;00m)\n",
            "File \u001b[0;32m/Library/Frameworks/Python.framework/Versions/3.10/lib/python3.10/site-packages/pandas/util/_decorators.py:311\u001b[0m, in \u001b[0;36mdeprecate_nonkeyword_arguments.<locals>.decorate.<locals>.wrapper\u001b[0;34m(*args, **kwargs)\u001b[0m\n\u001b[1;32m    305\u001b[0m \u001b[39mif\u001b[39;00m \u001b[39mlen\u001b[39m(args) \u001b[39m>\u001b[39m num_allow_args:\n\u001b[1;32m    306\u001b[0m     warnings\u001b[39m.\u001b[39mwarn(\n\u001b[1;32m    307\u001b[0m         msg\u001b[39m.\u001b[39mformat(arguments\u001b[39m=\u001b[39marguments),\n\u001b[1;32m    308\u001b[0m         \u001b[39mFutureWarning\u001b[39;00m,\n\u001b[1;32m    309\u001b[0m         stacklevel\u001b[39m=\u001b[39mstacklevel,\n\u001b[1;32m    310\u001b[0m     )\n\u001b[0;32m--> 311\u001b[0m \u001b[39mreturn\u001b[39;00m func(\u001b[39m*\u001b[39;49margs, \u001b[39m*\u001b[39;49m\u001b[39m*\u001b[39;49mkwargs)\n",
            "File \u001b[0;32m/Library/Frameworks/Python.framework/Versions/3.10/lib/python3.10/site-packages/pandas/io/parsers/readers.py:680\u001b[0m, in \u001b[0;36mread_csv\u001b[0;34m(filepath_or_buffer, sep, delimiter, header, names, index_col, usecols, squeeze, prefix, mangle_dupe_cols, dtype, engine, converters, true_values, false_values, skipinitialspace, skiprows, skipfooter, nrows, na_values, keep_default_na, na_filter, verbose, skip_blank_lines, parse_dates, infer_datetime_format, keep_date_col, date_parser, dayfirst, cache_dates, iterator, chunksize, compression, thousands, decimal, lineterminator, quotechar, quoting, doublequote, escapechar, comment, encoding, encoding_errors, dialect, error_bad_lines, warn_bad_lines, on_bad_lines, delim_whitespace, low_memory, memory_map, float_precision, storage_options)\u001b[0m\n\u001b[1;32m    665\u001b[0m kwds_defaults \u001b[39m=\u001b[39m _refine_defaults_read(\n\u001b[1;32m    666\u001b[0m     dialect,\n\u001b[1;32m    667\u001b[0m     delimiter,\n\u001b[0;32m   (...)\u001b[0m\n\u001b[1;32m    676\u001b[0m     defaults\u001b[39m=\u001b[39m{\u001b[39m\"\u001b[39m\u001b[39mdelimiter\u001b[39m\u001b[39m\"\u001b[39m: \u001b[39m\"\u001b[39m\u001b[39m,\u001b[39m\u001b[39m\"\u001b[39m},\n\u001b[1;32m    677\u001b[0m )\n\u001b[1;32m    678\u001b[0m kwds\u001b[39m.\u001b[39mupdate(kwds_defaults)\n\u001b[0;32m--> 680\u001b[0m \u001b[39mreturn\u001b[39;00m _read(filepath_or_buffer, kwds)\n",
            "File \u001b[0;32m/Library/Frameworks/Python.framework/Versions/3.10/lib/python3.10/site-packages/pandas/io/parsers/readers.py:581\u001b[0m, in \u001b[0;36m_read\u001b[0;34m(filepath_or_buffer, kwds)\u001b[0m\n\u001b[1;32m    578\u001b[0m     \u001b[39mreturn\u001b[39;00m parser\n\u001b[1;32m    580\u001b[0m \u001b[39mwith\u001b[39;00m parser:\n\u001b[0;32m--> 581\u001b[0m     \u001b[39mreturn\u001b[39;00m parser\u001b[39m.\u001b[39;49mread(nrows)\n",
            "File \u001b[0;32m/Library/Frameworks/Python.framework/Versions/3.10/lib/python3.10/site-packages/pandas/io/parsers/readers.py:1255\u001b[0m, in \u001b[0;36mTextFileReader.read\u001b[0;34m(self, nrows)\u001b[0m\n\u001b[1;32m   1253\u001b[0m nrows \u001b[39m=\u001b[39m validate_integer(\u001b[39m\"\u001b[39m\u001b[39mnrows\u001b[39m\u001b[39m\"\u001b[39m, nrows)\n\u001b[1;32m   1254\u001b[0m \u001b[39mtry\u001b[39;00m:\n\u001b[0;32m-> 1255\u001b[0m     index, columns, col_dict \u001b[39m=\u001b[39m \u001b[39mself\u001b[39;49m\u001b[39m.\u001b[39;49m_engine\u001b[39m.\u001b[39;49mread(nrows)\n\u001b[1;32m   1256\u001b[0m \u001b[39mexcept\u001b[39;00m \u001b[39mException\u001b[39;00m:\n\u001b[1;32m   1257\u001b[0m     \u001b[39mself\u001b[39m\u001b[39m.\u001b[39mclose()\n",
            "File \u001b[0;32m/Library/Frameworks/Python.framework/Versions/3.10/lib/python3.10/site-packages/pandas/io/parsers/c_parser_wrapper.py:230\u001b[0m, in \u001b[0;36mCParserWrapper.read\u001b[0;34m(self, nrows)\u001b[0m\n\u001b[1;32m    227\u001b[0m         data \u001b[39m=\u001b[39m _concatenate_chunks(chunks)\n\u001b[1;32m    229\u001b[0m     \u001b[39melse\u001b[39;00m:\n\u001b[0;32m--> 230\u001b[0m         data \u001b[39m=\u001b[39m \u001b[39mself\u001b[39;49m\u001b[39m.\u001b[39;49m_reader\u001b[39m.\u001b[39;49mread(nrows)\n\u001b[1;32m    231\u001b[0m \u001b[39mexcept\u001b[39;00m \u001b[39mStopIteration\u001b[39;00m:\n\u001b[1;32m    232\u001b[0m     \u001b[39mif\u001b[39;00m \u001b[39mself\u001b[39m\u001b[39m.\u001b[39m_first_chunk:\n",
            "File \u001b[0;32m/Library/Frameworks/Python.framework/Versions/3.10/lib/python3.10/site-packages/pandas/_libs/parsers.pyx:787\u001b[0m, in \u001b[0;36mpandas._libs.parsers.TextReader.read\u001b[0;34m()\u001b[0m\n",
            "File \u001b[0;32m/Library/Frameworks/Python.framework/Versions/3.10/lib/python3.10/site-packages/pandas/_libs/parsers.pyx:883\u001b[0m, in \u001b[0;36mpandas._libs.parsers.TextReader._read_rows\u001b[0;34m()\u001b[0m\n",
            "File \u001b[0;32m/Library/Frameworks/Python.framework/Versions/3.10/lib/python3.10/site-packages/pandas/_libs/parsers.pyx:1026\u001b[0m, in \u001b[0;36mpandas._libs.parsers.TextReader._convert_column_data\u001b[0;34m()\u001b[0m\n",
            "File \u001b[0;32m/Library/Frameworks/Python.framework/Versions/3.10/lib/python3.10/site-packages/pandas/_libs/parsers.pyx:1072\u001b[0m, in \u001b[0;36mpandas._libs.parsers.TextReader._convert_tokens\u001b[0;34m()\u001b[0m\n",
            "File \u001b[0;32m/Library/Frameworks/Python.framework/Versions/3.10/lib/python3.10/site-packages/pandas/_libs/parsers.pyx:1147\u001b[0m, in \u001b[0;36mpandas._libs.parsers.TextReader._convert_with_dtype\u001b[0;34m()\u001b[0m\n",
            "File \u001b[0;32m/Library/Frameworks/Python.framework/Versions/3.10/lib/python3.10/site-packages/pandas/core/dtypes/common.py:1429\u001b[0m, in \u001b[0;36mis_extension_array_dtype\u001b[0;34m(arr_or_dtype)\u001b[0m\n\u001b[1;32m   1420\u001b[0m     \u001b[39m# Note: if other EA dtypes are ever held in HybridBlock, exclude those\u001b[39;00m\n\u001b[1;32m   1421\u001b[0m     \u001b[39m#  here too.\u001b[39;00m\n\u001b[1;32m   1422\u001b[0m     \u001b[39m# NB: need to check DatetimeTZDtype and not is_datetime64tz_dtype\u001b[39;00m\n\u001b[1;32m   1423\u001b[0m     \u001b[39m#  to exclude ArrowTimestampUSDtype\u001b[39;00m\n\u001b[1;32m   1424\u001b[0m     \u001b[39mreturn\u001b[39;00m \u001b[39misinstance\u001b[39m(dtype, ExtensionDtype) \u001b[39mand\u001b[39;00m \u001b[39mnot\u001b[39;00m \u001b[39misinstance\u001b[39m(\n\u001b[1;32m   1425\u001b[0m         dtype, (DatetimeTZDtype, PeriodDtype)\n\u001b[1;32m   1426\u001b[0m     )\n\u001b[0;32m-> 1429\u001b[0m \u001b[39mdef\u001b[39;00m \u001b[39mis_extension_array_dtype\u001b[39m(arr_or_dtype) \u001b[39m-\u001b[39m\u001b[39m>\u001b[39m \u001b[39mbool\u001b[39m:\n\u001b[1;32m   1430\u001b[0m     \u001b[39m\"\"\"\u001b[39;00m\n\u001b[1;32m   1431\u001b[0m \u001b[39m    Check if an object is a pandas extension array type.\u001b[39;00m\n\u001b[1;32m   1432\u001b[0m \n\u001b[0;32m   (...)\u001b[0m\n\u001b[1;32m   1472\u001b[0m \u001b[39m    False\u001b[39;00m\n\u001b[1;32m   1473\u001b[0m \u001b[39m    \"\"\"\u001b[39;00m\n\u001b[1;32m   1474\u001b[0m     dtype \u001b[39m=\u001b[39m \u001b[39mgetattr\u001b[39m(arr_or_dtype, \u001b[39m\"\u001b[39m\u001b[39mdtype\u001b[39m\u001b[39m\"\u001b[39m, arr_or_dtype)\n",
            "\u001b[0;31mKeyboardInterrupt\u001b[0m: "
          ]
        }
      ],
      "source": [
        "from datetime import datetime\n",
        "\n",
        "divvy_history = pd.read_csv('/Users/deepasarojam/Documents/Kevin Hatman - Data Viz/Data/divvy_trip_history_201909-202108.csv', \n",
        "                parse_dates=['date'],\n",
        "                #converters={'date': lambda x: x.strftime('%Y-%m-%d')},\n",
        "                low_memory=False)"
      ]
    },
    {
      "cell_type": "code",
      "execution_count": null,
      "metadata": {},
      "outputs": [],
      "source": [
        "divvy_history['mnth_yr'] = divvy_history['date'].dt.strftime('%Y %b')"
      ]
    },
    {
      "cell_type": "code",
      "execution_count": null,
      "metadata": {},
      "outputs": [
        {
          "data": {
            "text/plain": [
              "Index(['Unnamed: 0', 'ID', '...1', 'ride_id', 'rideable_type', 'started_at',\n",
              "       'ended_at', 'start_station_name', 'start_station_id',\n",
              "       'end_station_name', 'end_station_id', 'start_lat', 'start_lng',\n",
              "       'end_lat', 'end_lng', 'member_casual', 'date', 'month', 'day', 'year',\n",
              "       'day_of_week', 'mnth_yr'],\n",
              "      dtype='object')"
            ]
          },
          "execution_count": 6,
          "metadata": {},
          "output_type": "execute_result"
        }
      ],
      "source": [
        "divvy_history.columns"
      ]
    },
    {
      "cell_type": "code",
      "execution_count": null,
      "metadata": {},
      "outputs": [
        {
          "data": {
            "text/html": [
              "<div>\n",
              "<style scoped>\n",
              "    .dataframe tbody tr th:only-of-type {\n",
              "        vertical-align: middle;\n",
              "    }\n",
              "\n",
              "    .dataframe tbody tr th {\n",
              "        vertical-align: top;\n",
              "    }\n",
              "\n",
              "    .dataframe thead th {\n",
              "        text-align: right;\n",
              "    }\n",
              "</style>\n",
              "<table border=\"1\" class=\"dataframe\">\n",
              "  <thead>\n",
              "    <tr style=\"text-align: right;\">\n",
              "      <th></th>\n",
              "      <th>Unnamed: 0</th>\n",
              "      <th>ID</th>\n",
              "      <th>...1</th>\n",
              "      <th>ride_id</th>\n",
              "      <th>rideable_type</th>\n",
              "      <th>started_at</th>\n",
              "      <th>ended_at</th>\n",
              "      <th>start_station_name</th>\n",
              "      <th>start_station_id</th>\n",
              "      <th>end_station_name</th>\n",
              "      <th>...</th>\n",
              "      <th>start_lng</th>\n",
              "      <th>end_lat</th>\n",
              "      <th>end_lng</th>\n",
              "      <th>member_casual</th>\n",
              "      <th>date</th>\n",
              "      <th>month</th>\n",
              "      <th>day</th>\n",
              "      <th>year</th>\n",
              "      <th>day_of_week</th>\n",
              "      <th>mnth_yr</th>\n",
              "    </tr>\n",
              "  </thead>\n",
              "  <tbody>\n",
              "    <tr>\n",
              "      <th>0</th>\n",
              "      <td>1</td>\n",
              "      <td>1147482</td>\n",
              "      <td>8267501.0</td>\n",
              "      <td>24710636</td>\n",
              "      <td>docked_bike</td>\n",
              "      <td>2019-09-01 00:00:15</td>\n",
              "      <td>2019-09-01 00:05:00</td>\n",
              "      <td>Southport Ave &amp; Waveland Ave</td>\n",
              "      <td>227</td>\n",
              "      <td>Ashland Ave &amp; Belle Plaine Ave</td>\n",
              "      <td>...</td>\n",
              "      <td>-87.6639</td>\n",
              "      <td>41.9561</td>\n",
              "      <td>-87.6688</td>\n",
              "      <td>member</td>\n",
              "      <td>2019-09-01</td>\n",
              "      <td>9</td>\n",
              "      <td>1</td>\n",
              "      <td>2019</td>\n",
              "      <td>Sunday</td>\n",
              "      <td>2019 Sep</td>\n",
              "    </tr>\n",
              "    <tr>\n",
              "      <th>1</th>\n",
              "      <td>2</td>\n",
              "      <td>1147483</td>\n",
              "      <td>8267502.0</td>\n",
              "      <td>24710637</td>\n",
              "      <td>docked_bike</td>\n",
              "      <td>2019-09-01 00:00:48</td>\n",
              "      <td>2019-09-01 00:06:46</td>\n",
              "      <td>Wells St &amp; Concord Ln</td>\n",
              "      <td>289</td>\n",
              "      <td>Sedgwick St &amp; Webster Ave</td>\n",
              "      <td>...</td>\n",
              "      <td>-87.6347</td>\n",
              "      <td>41.9222</td>\n",
              "      <td>-87.6389</td>\n",
              "      <td>member</td>\n",
              "      <td>2019-09-01</td>\n",
              "      <td>9</td>\n",
              "      <td>1</td>\n",
              "      <td>2019</td>\n",
              "      <td>Sunday</td>\n",
              "      <td>2019 Sep</td>\n",
              "    </tr>\n",
              "    <tr>\n",
              "      <th>2</th>\n",
              "      <td>3</td>\n",
              "      <td>1147484</td>\n",
              "      <td>8267503.0</td>\n",
              "      <td>24710638</td>\n",
              "      <td>docked_bike</td>\n",
              "      <td>2019-09-01 00:01:13</td>\n",
              "      <td>2019-09-01 00:07:53</td>\n",
              "      <td>Broadway &amp; Waveland Ave</td>\n",
              "      <td>304</td>\n",
              "      <td>Broadway &amp; Belmont Ave</td>\n",
              "      <td>...</td>\n",
              "      <td>-87.6486</td>\n",
              "      <td>41.9401</td>\n",
              "      <td>-87.6455</td>\n",
              "      <td>member</td>\n",
              "      <td>2019-09-01</td>\n",
              "      <td>9</td>\n",
              "      <td>1</td>\n",
              "      <td>2019</td>\n",
              "      <td>Sunday</td>\n",
              "      <td>2019 Sep</td>\n",
              "    </tr>\n",
              "    <tr>\n",
              "      <th>3</th>\n",
              "      <td>4</td>\n",
              "      <td>1147485</td>\n",
              "      <td>8267504.0</td>\n",
              "      <td>24710639</td>\n",
              "      <td>docked_bike</td>\n",
              "      <td>2019-09-01 00:01:34</td>\n",
              "      <td>2019-09-01 00:11:04</td>\n",
              "      <td>Wells St &amp; Concord Ln</td>\n",
              "      <td>289</td>\n",
              "      <td>Clark St &amp; Drummond Pl</td>\n",
              "      <td>...</td>\n",
              "      <td>-87.6347</td>\n",
              "      <td>41.9312</td>\n",
              "      <td>-87.6443</td>\n",
              "      <td>member</td>\n",
              "      <td>2019-09-01</td>\n",
              "      <td>9</td>\n",
              "      <td>1</td>\n",
              "      <td>2019</td>\n",
              "      <td>Sunday</td>\n",
              "      <td>2019 Sep</td>\n",
              "    </tr>\n",
              "    <tr>\n",
              "      <th>4</th>\n",
              "      <td>5</td>\n",
              "      <td>1147486</td>\n",
              "      <td>8267505.0</td>\n",
              "      <td>24710640</td>\n",
              "      <td>docked_bike</td>\n",
              "      <td>2019-09-01 00:03:29</td>\n",
              "      <td>2019-09-01 00:21:53</td>\n",
              "      <td>Wells St &amp; Concord Ln</td>\n",
              "      <td>289</td>\n",
              "      <td>Western Ave &amp; Walton St</td>\n",
              "      <td>...</td>\n",
              "      <td>-87.6347</td>\n",
              "      <td>41.8984</td>\n",
              "      <td>-87.6866</td>\n",
              "      <td>member</td>\n",
              "      <td>2019-09-01</td>\n",
              "      <td>9</td>\n",
              "      <td>1</td>\n",
              "      <td>2019</td>\n",
              "      <td>Sunday</td>\n",
              "      <td>2019 Sep</td>\n",
              "    </tr>\n",
              "  </tbody>\n",
              "</table>\n",
              "<p>5 rows × 22 columns</p>\n",
              "</div>"
            ],
            "text/plain": [
              "   Unnamed: 0       ID       ...1   ride_id rideable_type  \\\n",
              "0           1  1147482  8267501.0  24710636   docked_bike   \n",
              "1           2  1147483  8267502.0  24710637   docked_bike   \n",
              "2           3  1147484  8267503.0  24710638   docked_bike   \n",
              "3           4  1147485  8267504.0  24710639   docked_bike   \n",
              "4           5  1147486  8267505.0  24710640   docked_bike   \n",
              "\n",
              "            started_at             ended_at            start_station_name  \\\n",
              "0  2019-09-01 00:00:15  2019-09-01 00:05:00  Southport Ave & Waveland Ave   \n",
              "1  2019-09-01 00:00:48  2019-09-01 00:06:46         Wells St & Concord Ln   \n",
              "2  2019-09-01 00:01:13  2019-09-01 00:07:53       Broadway & Waveland Ave   \n",
              "3  2019-09-01 00:01:34  2019-09-01 00:11:04         Wells St & Concord Ln   \n",
              "4  2019-09-01 00:03:29  2019-09-01 00:21:53         Wells St & Concord Ln   \n",
              "\n",
              "  start_station_id                end_station_name  ... start_lng  end_lat  \\\n",
              "0              227  Ashland Ave & Belle Plaine Ave  ...  -87.6639  41.9561   \n",
              "1              289       Sedgwick St & Webster Ave  ...  -87.6347  41.9222   \n",
              "2              304          Broadway & Belmont Ave  ...  -87.6486  41.9401   \n",
              "3              289          Clark St & Drummond Pl  ...  -87.6347  41.9312   \n",
              "4              289         Western Ave & Walton St  ...  -87.6347  41.8984   \n",
              "\n",
              "   end_lng  member_casual       date month day  year  day_of_week   mnth_yr  \n",
              "0 -87.6688         member 2019-09-01     9   1  2019       Sunday  2019 Sep  \n",
              "1 -87.6389         member 2019-09-01     9   1  2019       Sunday  2019 Sep  \n",
              "2 -87.6455         member 2019-09-01     9   1  2019       Sunday  2019 Sep  \n",
              "3 -87.6443         member 2019-09-01     9   1  2019       Sunday  2019 Sep  \n",
              "4 -87.6866         member 2019-09-01     9   1  2019       Sunday  2019 Sep  \n",
              "\n",
              "[5 rows x 22 columns]"
            ]
          },
          "execution_count": 7,
          "metadata": {},
          "output_type": "execute_result"
        }
      ],
      "source": [
        "divvy_history.head(5)"
      ]
    },
    {
      "cell_type": "code",
      "execution_count": null,
      "metadata": {},
      "outputs": [
        {
          "data": {
            "text/html": [
              "<div>\n",
              "<style scoped>\n",
              "    .dataframe tbody tr th:only-of-type {\n",
              "        vertical-align: middle;\n",
              "    }\n",
              "\n",
              "    .dataframe tbody tr th {\n",
              "        vertical-align: top;\n",
              "    }\n",
              "\n",
              "    .dataframe thead th {\n",
              "        text-align: right;\n",
              "    }\n",
              "</style>\n",
              "<table border=\"1\" class=\"dataframe\">\n",
              "  <thead>\n",
              "    <tr style=\"text-align: right;\">\n",
              "      <th></th>\n",
              "      <th>index</th>\n",
              "      <th>start_station_name</th>\n",
              "      <th>mnth_yr</th>\n",
              "      <th>mnth_yr_count</th>\n",
              "    </tr>\n",
              "  </thead>\n",
              "  <tbody>\n",
              "    <tr>\n",
              "      <th>0</th>\n",
              "      <td>13336</td>\n",
              "      <td>Streeter Dr &amp; Grand Ave</td>\n",
              "      <td>2021 Jul</td>\n",
              "      <td>16974</td>\n",
              "    </tr>\n",
              "    <tr>\n",
              "      <th>1</th>\n",
              "      <td>13333</td>\n",
              "      <td>Streeter Dr &amp; Grand Ave</td>\n",
              "      <td>2021 Aug</td>\n",
              "      <td>14503</td>\n",
              "    </tr>\n",
              "    <tr>\n",
              "      <th>2</th>\n",
              "      <td>13337</td>\n",
              "      <td>Streeter Dr &amp; Grand Ave</td>\n",
              "      <td>2021 Jun</td>\n",
              "      <td>14048</td>\n",
              "    </tr>\n",
              "    <tr>\n",
              "      <th>3</th>\n",
              "      <td>13339</td>\n",
              "      <td>Streeter Dr &amp; Grand Ave</td>\n",
              "      <td>2021 May</td>\n",
              "      <td>10199</td>\n",
              "    </tr>\n",
              "    <tr>\n",
              "      <th>4</th>\n",
              "      <td>13319</td>\n",
              "      <td>Streeter Dr &amp; Grand Ave</td>\n",
              "      <td>2019 Sep</td>\n",
              "      <td>9783</td>\n",
              "    </tr>\n",
              "    <tr>\n",
              "      <th>5</th>\n",
              "      <td>13321</td>\n",
              "      <td>Streeter Dr &amp; Grand Ave</td>\n",
              "      <td>2020 Aug</td>\n",
              "      <td>9333</td>\n",
              "    </tr>\n",
              "    <tr>\n",
              "      <th>6</th>\n",
              "      <td>5010</td>\n",
              "      <td>DuSable Lake Shore Dr &amp; North Blvd</td>\n",
              "      <td>2021 Aug</td>\n",
              "      <td>9323</td>\n",
              "    </tr>\n",
              "    <tr>\n",
              "      <th>7</th>\n",
              "      <td>13379</td>\n",
              "      <td>Theater on the Lake</td>\n",
              "      <td>2020 Aug</td>\n",
              "      <td>8738</td>\n",
              "    </tr>\n",
              "    <tr>\n",
              "      <th>8</th>\n",
              "      <td>8063</td>\n",
              "      <td>Lake Shore Dr &amp; North Blvd</td>\n",
              "      <td>2021 Jun</td>\n",
              "      <td>8721</td>\n",
              "    </tr>\n",
              "    <tr>\n",
              "      <th>9</th>\n",
              "      <td>13325</td>\n",
              "      <td>Streeter Dr &amp; Grand Ave</td>\n",
              "      <td>2020 Jul</td>\n",
              "      <td>8565</td>\n",
              "    </tr>\n",
              "    <tr>\n",
              "      <th>10</th>\n",
              "      <td>9723</td>\n",
              "      <td>Michigan Ave &amp; Oak St</td>\n",
              "      <td>2021 Jul</td>\n",
              "      <td>8397</td>\n",
              "    </tr>\n",
              "    <tr>\n",
              "      <th>11</th>\n",
              "      <td>9720</td>\n",
              "      <td>Michigan Ave &amp; Oak St</td>\n",
              "      <td>2021 Aug</td>\n",
              "      <td>8102</td>\n",
              "    </tr>\n",
              "    <tr>\n",
              "      <th>12</th>\n",
              "      <td>9867</td>\n",
              "      <td>Millennium Park</td>\n",
              "      <td>2021 Jul</td>\n",
              "      <td>7630</td>\n",
              "    </tr>\n",
              "    <tr>\n",
              "      <th>13</th>\n",
              "      <td>9724</td>\n",
              "      <td>Michigan Ave &amp; Oak St</td>\n",
              "      <td>2021 Jun</td>\n",
              "      <td>7228</td>\n",
              "    </tr>\n",
              "    <tr>\n",
              "      <th>14</th>\n",
              "      <td>13391</td>\n",
              "      <td>Theater on the Lake</td>\n",
              "      <td>2021 Aug</td>\n",
              "      <td>7160</td>\n",
              "    </tr>\n",
              "    <tr>\n",
              "      <th>15</th>\n",
              "      <td>14174</td>\n",
              "      <td>Wells St &amp; Concord Ln</td>\n",
              "      <td>2021 Jul</td>\n",
              "      <td>6932</td>\n",
              "    </tr>\n",
              "    <tr>\n",
              "      <th>16</th>\n",
              "      <td>8040</td>\n",
              "      <td>Lake Shore Dr &amp; Monroe St</td>\n",
              "      <td>2021 Jun</td>\n",
              "      <td>6920</td>\n",
              "    </tr>\n",
              "    <tr>\n",
              "      <th>17</th>\n",
              "      <td>13394</td>\n",
              "      <td>Theater on the Lake</td>\n",
              "      <td>2021 Jul</td>\n",
              "      <td>6919</td>\n",
              "    </tr>\n",
              "    <tr>\n",
              "      <th>18</th>\n",
              "      <td>14171</td>\n",
              "      <td>Wells St &amp; Concord Ln</td>\n",
              "      <td>2021 Aug</td>\n",
              "      <td>6893</td>\n",
              "    </tr>\n",
              "    <tr>\n",
              "      <th>19</th>\n",
              "      <td>8025</td>\n",
              "      <td>Lake Shore Dr &amp; Monroe St</td>\n",
              "      <td>2020 Aug</td>\n",
              "      <td>6851</td>\n",
              "    </tr>\n",
              "  </tbody>\n",
              "</table>\n",
              "</div>"
            ],
            "text/plain": [
              "    index                  start_station_name   mnth_yr  mnth_yr_count\n",
              "0   13336             Streeter Dr & Grand Ave  2021 Jul          16974\n",
              "1   13333             Streeter Dr & Grand Ave  2021 Aug          14503\n",
              "2   13337             Streeter Dr & Grand Ave  2021 Jun          14048\n",
              "3   13339             Streeter Dr & Grand Ave  2021 May          10199\n",
              "4   13319             Streeter Dr & Grand Ave  2019 Sep           9783\n",
              "5   13321             Streeter Dr & Grand Ave  2020 Aug           9333\n",
              "6    5010  DuSable Lake Shore Dr & North Blvd  2021 Aug           9323\n",
              "7   13379                 Theater on the Lake  2020 Aug           8738\n",
              "8    8063          Lake Shore Dr & North Blvd  2021 Jun           8721\n",
              "9   13325             Streeter Dr & Grand Ave  2020 Jul           8565\n",
              "10   9723               Michigan Ave & Oak St  2021 Jul           8397\n",
              "11   9720               Michigan Ave & Oak St  2021 Aug           8102\n",
              "12   9867                     Millennium Park  2021 Jul           7630\n",
              "13   9724               Michigan Ave & Oak St  2021 Jun           7228\n",
              "14  13391                 Theater on the Lake  2021 Aug           7160\n",
              "15  14174               Wells St & Concord Ln  2021 Jul           6932\n",
              "16   8040           Lake Shore Dr & Monroe St  2021 Jun           6920\n",
              "17  13394                 Theater on the Lake  2021 Jul           6919\n",
              "18  14171               Wells St & Concord Ln  2021 Aug           6893\n",
              "19   8025           Lake Shore Dr & Monroe St  2020 Aug           6851"
            ]
          },
          "execution_count": 40,
          "metadata": {},
          "output_type": "execute_result"
        }
      ],
      "source": [
        "mnth_yr_count_df = divvy_history.groupby(['start_station_name', 'mnth_yr']).size().reset_index().rename(columns={0: 'mnth_yr_count'}).sort_values(by=['mnth_yr_count'], ascending=False) \n",
        "count_df = pd.DataFrame(mnth_yr_count_df)\n",
        "count_df.reset_index(level=0, inplace=True)\n",
        "count_df = count_df.head(20)\n",
        "count_df"
      ]
    },
    {
      "cell_type": "code",
      "execution_count": 87,
      "metadata": {},
      "outputs": [
        {
          "data": {
            "text/html": [
              "<div>\n",
              "<style scoped>\n",
              "    .dataframe tbody tr th:only-of-type {\n",
              "        vertical-align: middle;\n",
              "    }\n",
              "\n",
              "    .dataframe tbody tr th {\n",
              "        vertical-align: top;\n",
              "    }\n",
              "\n",
              "    .dataframe thead th {\n",
              "        text-align: right;\n",
              "    }\n",
              "</style>\n",
              "<table border=\"1\" class=\"dataframe\">\n",
              "  <thead>\n",
              "    <tr style=\"text-align: right;\">\n",
              "      <th>mnth_yr</th>\n",
              "      <th>2019 Sep</th>\n",
              "      <th>2020 Aug</th>\n",
              "      <th>2020 Jul</th>\n",
              "      <th>2021 Aug</th>\n",
              "      <th>2021 Jul</th>\n",
              "      <th>2021 Jun</th>\n",
              "      <th>2021 May</th>\n",
              "    </tr>\n",
              "    <tr>\n",
              "      <th>start_station_name</th>\n",
              "      <th></th>\n",
              "      <th></th>\n",
              "      <th></th>\n",
              "      <th></th>\n",
              "      <th></th>\n",
              "      <th></th>\n",
              "      <th></th>\n",
              "    </tr>\n",
              "  </thead>\n",
              "  <tbody>\n",
              "    <tr>\n",
              "      <th>DuSable Lake Shore Dr &amp; North Blvd</th>\n",
              "      <td>NaN</td>\n",
              "      <td>NaN</td>\n",
              "      <td>NaN</td>\n",
              "      <td>9323.0</td>\n",
              "      <td>NaN</td>\n",
              "      <td>NaN</td>\n",
              "      <td>NaN</td>\n",
              "    </tr>\n",
              "    <tr>\n",
              "      <th>Lake Shore Dr &amp; Monroe St</th>\n",
              "      <td>NaN</td>\n",
              "      <td>6851.0</td>\n",
              "      <td>NaN</td>\n",
              "      <td>NaN</td>\n",
              "      <td>NaN</td>\n",
              "      <td>6920.0</td>\n",
              "      <td>NaN</td>\n",
              "    </tr>\n",
              "    <tr>\n",
              "      <th>Lake Shore Dr &amp; North Blvd</th>\n",
              "      <td>NaN</td>\n",
              "      <td>NaN</td>\n",
              "      <td>NaN</td>\n",
              "      <td>NaN</td>\n",
              "      <td>NaN</td>\n",
              "      <td>8721.0</td>\n",
              "      <td>NaN</td>\n",
              "    </tr>\n",
              "    <tr>\n",
              "      <th>Michigan Ave &amp; Oak St</th>\n",
              "      <td>NaN</td>\n",
              "      <td>NaN</td>\n",
              "      <td>NaN</td>\n",
              "      <td>8102.0</td>\n",
              "      <td>8397.0</td>\n",
              "      <td>7228.0</td>\n",
              "      <td>NaN</td>\n",
              "    </tr>\n",
              "    <tr>\n",
              "      <th>Millennium Park</th>\n",
              "      <td>NaN</td>\n",
              "      <td>NaN</td>\n",
              "      <td>NaN</td>\n",
              "      <td>NaN</td>\n",
              "      <td>7630.0</td>\n",
              "      <td>NaN</td>\n",
              "      <td>NaN</td>\n",
              "    </tr>\n",
              "    <tr>\n",
              "      <th>Streeter Dr &amp; Grand Ave</th>\n",
              "      <td>9783.0</td>\n",
              "      <td>9333.0</td>\n",
              "      <td>8565.0</td>\n",
              "      <td>14503.0</td>\n",
              "      <td>16974.0</td>\n",
              "      <td>14048.0</td>\n",
              "      <td>10199.0</td>\n",
              "    </tr>\n",
              "    <tr>\n",
              "      <th>Theater on the Lake</th>\n",
              "      <td>NaN</td>\n",
              "      <td>8738.0</td>\n",
              "      <td>NaN</td>\n",
              "      <td>7160.0</td>\n",
              "      <td>6919.0</td>\n",
              "      <td>NaN</td>\n",
              "      <td>NaN</td>\n",
              "    </tr>\n",
              "    <tr>\n",
              "      <th>Wells St &amp; Concord Ln</th>\n",
              "      <td>NaN</td>\n",
              "      <td>NaN</td>\n",
              "      <td>NaN</td>\n",
              "      <td>6893.0</td>\n",
              "      <td>6932.0</td>\n",
              "      <td>NaN</td>\n",
              "      <td>NaN</td>\n",
              "    </tr>\n",
              "  </tbody>\n",
              "</table>\n",
              "</div>"
            ],
            "text/plain": [
              "mnth_yr                             2019 Sep  2020 Aug  2020 Jul  2021 Aug  \\\n",
              "start_station_name                                                           \n",
              "DuSable Lake Shore Dr & North Blvd       NaN       NaN       NaN    9323.0   \n",
              "Lake Shore Dr & Monroe St                NaN    6851.0       NaN       NaN   \n",
              "Lake Shore Dr & North Blvd               NaN       NaN       NaN       NaN   \n",
              "Michigan Ave & Oak St                    NaN       NaN       NaN    8102.0   \n",
              "Millennium Park                          NaN       NaN       NaN       NaN   \n",
              "Streeter Dr & Grand Ave               9783.0    9333.0    8565.0   14503.0   \n",
              "Theater on the Lake                      NaN    8738.0       NaN    7160.0   \n",
              "Wells St & Concord Ln                    NaN       NaN       NaN    6893.0   \n",
              "\n",
              "mnth_yr                             2021 Jul  2021 Jun  2021 May  \n",
              "start_station_name                                                \n",
              "DuSable Lake Shore Dr & North Blvd       NaN       NaN       NaN  \n",
              "Lake Shore Dr & Monroe St                NaN    6920.0       NaN  \n",
              "Lake Shore Dr & North Blvd               NaN    8721.0       NaN  \n",
              "Michigan Ave & Oak St                 8397.0    7228.0       NaN  \n",
              "Millennium Park                       7630.0       NaN       NaN  \n",
              "Streeter Dr & Grand Ave              16974.0   14048.0   10199.0  \n",
              "Theater on the Lake                   6919.0       NaN       NaN  \n",
              "Wells St & Concord Ln                 6932.0       NaN       NaN  "
            ]
          },
          "execution_count": 87,
          "metadata": {},
          "output_type": "execute_result"
        }
      ],
      "source": [
        "# Create a pivot table\n",
        "result = count_df.pivot_table(\n",
        "    index='start_station_name',\n",
        "    columns='mnth_yr',\n",
        "    values='mnth_yr_count')\n",
        "#result = result.fillna(\"0\")\n",
        "\n",
        "result"
      ]
    },
    {
      "cell_type": "code",
      "execution_count": 88,
      "metadata": {},
      "outputs": [
        {
          "data": {
            "application/vnd.plotly.v1+json": {
              "config": {
                "plotlyServerURL": "https://plot.ly"
              },
              "data": [
                {
                  "coloraxis": "coloraxis",
                  "hovertemplate": "mnth_yr: %{x}<br>start_station_name: %{y}<br>color: %{z}<extra></extra>",
                  "name": "0",
                  "type": "heatmap",
                  "x": [
                    "2019 Sep",
                    "2020 Aug",
                    "2020 Jul",
                    "2021 Aug",
                    "2021 Jul",
                    "2021 Jun",
                    "2021 May"
                  ],
                  "xaxis": "x",
                  "y": [
                    "DuSable Lake Shore Dr & North Blvd",
                    "Lake Shore Dr & Monroe St",
                    "Lake Shore Dr & North Blvd",
                    "Michigan Ave & Oak St",
                    "Millennium Park",
                    "Streeter Dr & Grand Ave",
                    "Theater on the Lake",
                    "Wells St & Concord Ln"
                  ],
                  "yaxis": "y",
                  "z": [
                    [
                      null,
                      null,
                      null,
                      9323,
                      null,
                      null,
                      null
                    ],
                    [
                      null,
                      6851,
                      null,
                      null,
                      null,
                      6920,
                      null
                    ],
                    [
                      null,
                      null,
                      null,
                      null,
                      null,
                      8721,
                      null
                    ],
                    [
                      null,
                      null,
                      null,
                      8102,
                      8397,
                      7228,
                      null
                    ],
                    [
                      null,
                      null,
                      null,
                      null,
                      7630,
                      null,
                      null
                    ],
                    [
                      9783,
                      9333,
                      8565,
                      14503,
                      16974,
                      14048,
                      10199
                    ],
                    [
                      null,
                      8738,
                      null,
                      7160,
                      6919,
                      null,
                      null
                    ],
                    [
                      null,
                      null,
                      null,
                      6893,
                      6932,
                      null,
                      null
                    ]
                  ]
                }
              ],
              "layout": {
                "autosize": false,
                "coloraxis": {
                  "colorscale": [
                    [
                      0,
                      "rgb(255,247,251)"
                    ],
                    [
                      0.125,
                      "rgb(236,226,240)"
                    ],
                    [
                      0.25,
                      "rgb(208,209,230)"
                    ],
                    [
                      0.375,
                      "rgb(166,189,219)"
                    ],
                    [
                      0.5,
                      "rgb(103,169,207)"
                    ],
                    [
                      0.625,
                      "rgb(54,144,192)"
                    ],
                    [
                      0.75,
                      "rgb(2,129,138)"
                    ],
                    [
                      0.875,
                      "rgb(1,108,89)"
                    ],
                    [
                      1,
                      "rgb(1,70,54)"
                    ]
                  ]
                },
                "height": 900,
                "margin": {
                  "t": 60
                },
                "template": {
                  "data": {
                    "bar": [
                      {
                        "error_x": {
                          "color": "#2a3f5f"
                        },
                        "error_y": {
                          "color": "#2a3f5f"
                        },
                        "marker": {
                          "line": {
                            "color": "#E5ECF6",
                            "width": 0.5
                          },
                          "pattern": {
                            "fillmode": "overlay",
                            "size": 10,
                            "solidity": 0.2
                          }
                        },
                        "type": "bar"
                      }
                    ],
                    "barpolar": [
                      {
                        "marker": {
                          "line": {
                            "color": "#E5ECF6",
                            "width": 0.5
                          },
                          "pattern": {
                            "fillmode": "overlay",
                            "size": 10,
                            "solidity": 0.2
                          }
                        },
                        "type": "barpolar"
                      }
                    ],
                    "carpet": [
                      {
                        "aaxis": {
                          "endlinecolor": "#2a3f5f",
                          "gridcolor": "white",
                          "linecolor": "white",
                          "minorgridcolor": "white",
                          "startlinecolor": "#2a3f5f"
                        },
                        "baxis": {
                          "endlinecolor": "#2a3f5f",
                          "gridcolor": "white",
                          "linecolor": "white",
                          "minorgridcolor": "white",
                          "startlinecolor": "#2a3f5f"
                        },
                        "type": "carpet"
                      }
                    ],
                    "choropleth": [
                      {
                        "colorbar": {
                          "outlinewidth": 0,
                          "ticks": ""
                        },
                        "type": "choropleth"
                      }
                    ],
                    "contour": [
                      {
                        "colorbar": {
                          "outlinewidth": 0,
                          "ticks": ""
                        },
                        "colorscale": [
                          [
                            0,
                            "#0d0887"
                          ],
                          [
                            0.1111111111111111,
                            "#46039f"
                          ],
                          [
                            0.2222222222222222,
                            "#7201a8"
                          ],
                          [
                            0.3333333333333333,
                            "#9c179e"
                          ],
                          [
                            0.4444444444444444,
                            "#bd3786"
                          ],
                          [
                            0.5555555555555556,
                            "#d8576b"
                          ],
                          [
                            0.6666666666666666,
                            "#ed7953"
                          ],
                          [
                            0.7777777777777778,
                            "#fb9f3a"
                          ],
                          [
                            0.8888888888888888,
                            "#fdca26"
                          ],
                          [
                            1,
                            "#f0f921"
                          ]
                        ],
                        "type": "contour"
                      }
                    ],
                    "contourcarpet": [
                      {
                        "colorbar": {
                          "outlinewidth": 0,
                          "ticks": ""
                        },
                        "type": "contourcarpet"
                      }
                    ],
                    "heatmap": [
                      {
                        "colorbar": {
                          "outlinewidth": 0,
                          "ticks": ""
                        },
                        "colorscale": [
                          [
                            0,
                            "#0d0887"
                          ],
                          [
                            0.1111111111111111,
                            "#46039f"
                          ],
                          [
                            0.2222222222222222,
                            "#7201a8"
                          ],
                          [
                            0.3333333333333333,
                            "#9c179e"
                          ],
                          [
                            0.4444444444444444,
                            "#bd3786"
                          ],
                          [
                            0.5555555555555556,
                            "#d8576b"
                          ],
                          [
                            0.6666666666666666,
                            "#ed7953"
                          ],
                          [
                            0.7777777777777778,
                            "#fb9f3a"
                          ],
                          [
                            0.8888888888888888,
                            "#fdca26"
                          ],
                          [
                            1,
                            "#f0f921"
                          ]
                        ],
                        "type": "heatmap"
                      }
                    ],
                    "heatmapgl": [
                      {
                        "colorbar": {
                          "outlinewidth": 0,
                          "ticks": ""
                        },
                        "colorscale": [
                          [
                            0,
                            "#0d0887"
                          ],
                          [
                            0.1111111111111111,
                            "#46039f"
                          ],
                          [
                            0.2222222222222222,
                            "#7201a8"
                          ],
                          [
                            0.3333333333333333,
                            "#9c179e"
                          ],
                          [
                            0.4444444444444444,
                            "#bd3786"
                          ],
                          [
                            0.5555555555555556,
                            "#d8576b"
                          ],
                          [
                            0.6666666666666666,
                            "#ed7953"
                          ],
                          [
                            0.7777777777777778,
                            "#fb9f3a"
                          ],
                          [
                            0.8888888888888888,
                            "#fdca26"
                          ],
                          [
                            1,
                            "#f0f921"
                          ]
                        ],
                        "type": "heatmapgl"
                      }
                    ],
                    "histogram": [
                      {
                        "marker": {
                          "pattern": {
                            "fillmode": "overlay",
                            "size": 10,
                            "solidity": 0.2
                          }
                        },
                        "type": "histogram"
                      }
                    ],
                    "histogram2d": [
                      {
                        "colorbar": {
                          "outlinewidth": 0,
                          "ticks": ""
                        },
                        "colorscale": [
                          [
                            0,
                            "#0d0887"
                          ],
                          [
                            0.1111111111111111,
                            "#46039f"
                          ],
                          [
                            0.2222222222222222,
                            "#7201a8"
                          ],
                          [
                            0.3333333333333333,
                            "#9c179e"
                          ],
                          [
                            0.4444444444444444,
                            "#bd3786"
                          ],
                          [
                            0.5555555555555556,
                            "#d8576b"
                          ],
                          [
                            0.6666666666666666,
                            "#ed7953"
                          ],
                          [
                            0.7777777777777778,
                            "#fb9f3a"
                          ],
                          [
                            0.8888888888888888,
                            "#fdca26"
                          ],
                          [
                            1,
                            "#f0f921"
                          ]
                        ],
                        "type": "histogram2d"
                      }
                    ],
                    "histogram2dcontour": [
                      {
                        "colorbar": {
                          "outlinewidth": 0,
                          "ticks": ""
                        },
                        "colorscale": [
                          [
                            0,
                            "#0d0887"
                          ],
                          [
                            0.1111111111111111,
                            "#46039f"
                          ],
                          [
                            0.2222222222222222,
                            "#7201a8"
                          ],
                          [
                            0.3333333333333333,
                            "#9c179e"
                          ],
                          [
                            0.4444444444444444,
                            "#bd3786"
                          ],
                          [
                            0.5555555555555556,
                            "#d8576b"
                          ],
                          [
                            0.6666666666666666,
                            "#ed7953"
                          ],
                          [
                            0.7777777777777778,
                            "#fb9f3a"
                          ],
                          [
                            0.8888888888888888,
                            "#fdca26"
                          ],
                          [
                            1,
                            "#f0f921"
                          ]
                        ],
                        "type": "histogram2dcontour"
                      }
                    ],
                    "mesh3d": [
                      {
                        "colorbar": {
                          "outlinewidth": 0,
                          "ticks": ""
                        },
                        "type": "mesh3d"
                      }
                    ],
                    "parcoords": [
                      {
                        "line": {
                          "colorbar": {
                            "outlinewidth": 0,
                            "ticks": ""
                          }
                        },
                        "type": "parcoords"
                      }
                    ],
                    "pie": [
                      {
                        "automargin": true,
                        "type": "pie"
                      }
                    ],
                    "scatter": [
                      {
                        "fillpattern": {
                          "fillmode": "overlay",
                          "size": 10,
                          "solidity": 0.2
                        },
                        "type": "scatter"
                      }
                    ],
                    "scatter3d": [
                      {
                        "line": {
                          "colorbar": {
                            "outlinewidth": 0,
                            "ticks": ""
                          }
                        },
                        "marker": {
                          "colorbar": {
                            "outlinewidth": 0,
                            "ticks": ""
                          }
                        },
                        "type": "scatter3d"
                      }
                    ],
                    "scattercarpet": [
                      {
                        "marker": {
                          "colorbar": {
                            "outlinewidth": 0,
                            "ticks": ""
                          }
                        },
                        "type": "scattercarpet"
                      }
                    ],
                    "scattergeo": [
                      {
                        "marker": {
                          "colorbar": {
                            "outlinewidth": 0,
                            "ticks": ""
                          }
                        },
                        "type": "scattergeo"
                      }
                    ],
                    "scattergl": [
                      {
                        "marker": {
                          "colorbar": {
                            "outlinewidth": 0,
                            "ticks": ""
                          }
                        },
                        "type": "scattergl"
                      }
                    ],
                    "scattermapbox": [
                      {
                        "marker": {
                          "colorbar": {
                            "outlinewidth": 0,
                            "ticks": ""
                          }
                        },
                        "type": "scattermapbox"
                      }
                    ],
                    "scatterpolar": [
                      {
                        "marker": {
                          "colorbar": {
                            "outlinewidth": 0,
                            "ticks": ""
                          }
                        },
                        "type": "scatterpolar"
                      }
                    ],
                    "scatterpolargl": [
                      {
                        "marker": {
                          "colorbar": {
                            "outlinewidth": 0,
                            "ticks": ""
                          }
                        },
                        "type": "scatterpolargl"
                      }
                    ],
                    "scatterternary": [
                      {
                        "marker": {
                          "colorbar": {
                            "outlinewidth": 0,
                            "ticks": ""
                          }
                        },
                        "type": "scatterternary"
                      }
                    ],
                    "surface": [
                      {
                        "colorbar": {
                          "outlinewidth": 0,
                          "ticks": ""
                        },
                        "colorscale": [
                          [
                            0,
                            "#0d0887"
                          ],
                          [
                            0.1111111111111111,
                            "#46039f"
                          ],
                          [
                            0.2222222222222222,
                            "#7201a8"
                          ],
                          [
                            0.3333333333333333,
                            "#9c179e"
                          ],
                          [
                            0.4444444444444444,
                            "#bd3786"
                          ],
                          [
                            0.5555555555555556,
                            "#d8576b"
                          ],
                          [
                            0.6666666666666666,
                            "#ed7953"
                          ],
                          [
                            0.7777777777777778,
                            "#fb9f3a"
                          ],
                          [
                            0.8888888888888888,
                            "#fdca26"
                          ],
                          [
                            1,
                            "#f0f921"
                          ]
                        ],
                        "type": "surface"
                      }
                    ],
                    "table": [
                      {
                        "cells": {
                          "fill": {
                            "color": "#EBF0F8"
                          },
                          "line": {
                            "color": "white"
                          }
                        },
                        "header": {
                          "fill": {
                            "color": "#C8D4E3"
                          },
                          "line": {
                            "color": "white"
                          }
                        },
                        "type": "table"
                      }
                    ]
                  },
                  "layout": {
                    "annotationdefaults": {
                      "arrowcolor": "#2a3f5f",
                      "arrowhead": 0,
                      "arrowwidth": 1
                    },
                    "autotypenumbers": "strict",
                    "coloraxis": {
                      "colorbar": {
                        "outlinewidth": 0,
                        "ticks": ""
                      }
                    },
                    "colorscale": {
                      "diverging": [
                        [
                          0,
                          "#8e0152"
                        ],
                        [
                          0.1,
                          "#c51b7d"
                        ],
                        [
                          0.2,
                          "#de77ae"
                        ],
                        [
                          0.3,
                          "#f1b6da"
                        ],
                        [
                          0.4,
                          "#fde0ef"
                        ],
                        [
                          0.5,
                          "#f7f7f7"
                        ],
                        [
                          0.6,
                          "#e6f5d0"
                        ],
                        [
                          0.7,
                          "#b8e186"
                        ],
                        [
                          0.8,
                          "#7fbc41"
                        ],
                        [
                          0.9,
                          "#4d9221"
                        ],
                        [
                          1,
                          "#276419"
                        ]
                      ],
                      "sequential": [
                        [
                          0,
                          "#0d0887"
                        ],
                        [
                          0.1111111111111111,
                          "#46039f"
                        ],
                        [
                          0.2222222222222222,
                          "#7201a8"
                        ],
                        [
                          0.3333333333333333,
                          "#9c179e"
                        ],
                        [
                          0.4444444444444444,
                          "#bd3786"
                        ],
                        [
                          0.5555555555555556,
                          "#d8576b"
                        ],
                        [
                          0.6666666666666666,
                          "#ed7953"
                        ],
                        [
                          0.7777777777777778,
                          "#fb9f3a"
                        ],
                        [
                          0.8888888888888888,
                          "#fdca26"
                        ],
                        [
                          1,
                          "#f0f921"
                        ]
                      ],
                      "sequentialminus": [
                        [
                          0,
                          "#0d0887"
                        ],
                        [
                          0.1111111111111111,
                          "#46039f"
                        ],
                        [
                          0.2222222222222222,
                          "#7201a8"
                        ],
                        [
                          0.3333333333333333,
                          "#9c179e"
                        ],
                        [
                          0.4444444444444444,
                          "#bd3786"
                        ],
                        [
                          0.5555555555555556,
                          "#d8576b"
                        ],
                        [
                          0.6666666666666666,
                          "#ed7953"
                        ],
                        [
                          0.7777777777777778,
                          "#fb9f3a"
                        ],
                        [
                          0.8888888888888888,
                          "#fdca26"
                        ],
                        [
                          1,
                          "#f0f921"
                        ]
                      ]
                    },
                    "colorway": [
                      "#636efa",
                      "#EF553B",
                      "#00cc96",
                      "#ab63fa",
                      "#FFA15A",
                      "#19d3f3",
                      "#FF6692",
                      "#B6E880",
                      "#FF97FF",
                      "#FECB52"
                    ],
                    "font": {
                      "color": "#2a3f5f"
                    },
                    "geo": {
                      "bgcolor": "white",
                      "lakecolor": "white",
                      "landcolor": "#E5ECF6",
                      "showlakes": true,
                      "showland": true,
                      "subunitcolor": "white"
                    },
                    "hoverlabel": {
                      "align": "left"
                    },
                    "hovermode": "closest",
                    "mapbox": {
                      "style": "light"
                    },
                    "paper_bgcolor": "white",
                    "plot_bgcolor": "#E5ECF6",
                    "polar": {
                      "angularaxis": {
                        "gridcolor": "white",
                        "linecolor": "white",
                        "ticks": ""
                      },
                      "bgcolor": "#E5ECF6",
                      "radialaxis": {
                        "gridcolor": "white",
                        "linecolor": "white",
                        "ticks": ""
                      }
                    },
                    "scene": {
                      "xaxis": {
                        "backgroundcolor": "#E5ECF6",
                        "gridcolor": "white",
                        "gridwidth": 2,
                        "linecolor": "white",
                        "showbackground": true,
                        "ticks": "",
                        "zerolinecolor": "white"
                      },
                      "yaxis": {
                        "backgroundcolor": "#E5ECF6",
                        "gridcolor": "white",
                        "gridwidth": 2,
                        "linecolor": "white",
                        "showbackground": true,
                        "ticks": "",
                        "zerolinecolor": "white"
                      },
                      "zaxis": {
                        "backgroundcolor": "#E5ECF6",
                        "gridcolor": "white",
                        "gridwidth": 2,
                        "linecolor": "white",
                        "showbackground": true,
                        "ticks": "",
                        "zerolinecolor": "white"
                      }
                    },
                    "shapedefaults": {
                      "line": {
                        "color": "#2a3f5f"
                      }
                    },
                    "ternary": {
                      "aaxis": {
                        "gridcolor": "white",
                        "linecolor": "white",
                        "ticks": ""
                      },
                      "baxis": {
                        "gridcolor": "white",
                        "linecolor": "white",
                        "ticks": ""
                      },
                      "bgcolor": "#E5ECF6",
                      "caxis": {
                        "gridcolor": "white",
                        "linecolor": "white",
                        "ticks": ""
                      }
                    },
                    "title": {
                      "x": 0.05
                    },
                    "xaxis": {
                      "automargin": true,
                      "gridcolor": "white",
                      "linecolor": "white",
                      "ticks": "",
                      "title": {
                        "standoff": 15
                      },
                      "zerolinecolor": "white",
                      "zerolinewidth": 2
                    },
                    "yaxis": {
                      "automargin": true,
                      "gridcolor": "white",
                      "linecolor": "white",
                      "ticks": "",
                      "title": {
                        "standoff": 15
                      },
                      "zerolinecolor": "white",
                      "zerolinewidth": 2
                    }
                  }
                },
                "title": {
                  "text": "Busiest Divvy Bike Station (2019-2021)",
                  "x": 0.5,
                  "xanchor": "center",
                  "y": 0.95,
                  "yanchor": "top"
                },
                "width": 900,
                "xaxis": {
                  "anchor": "y",
                  "constrain": "domain",
                  "domain": [
                    0,
                    1
                  ],
                  "scaleanchor": "y",
                  "title": {
                    "text": "Year-Month"
                  }
                },
                "yaxis": {
                  "anchor": "x",
                  "autorange": "reversed",
                  "constrain": "domain",
                  "domain": [
                    0,
                    1
                  ],
                  "title": {
                    "text": "Divvy Station Names"
                  }
                }
              }
            }
          },
          "metadata": {},
          "output_type": "display_data"
        }
      ],
      "source": [
        "import plotly.express as px\n",
        "\n",
        "fig = px.imshow(result, color_continuous_scale='pubugn')\n",
        "\n",
        "fig.update_layout(\n",
        "    title={\n",
        "        'text': \"Busiest Divvy Bike Station (2019-2021)\",\n",
        "        'y':0.95,\n",
        "        'x':0.5,\n",
        "        'xanchor': 'center',\n",
        "        'yanchor': 'top'},\n",
        "    autosize=False,\n",
        "    width=900,\n",
        "    height=900,\n",
        "    xaxis_title=\"Year-Month\",\n",
        "    yaxis_title=\"Divvy Station Names\"\n",
        "    )\n",
        "\n",
        "fig.show()"
      ]
    },
    {
      "cell_type": "code",
      "execution_count": 89,
      "metadata": {},
      "outputs": [
        {
          "data": {
            "text/html": [
              "<div>\n",
              "<style scoped>\n",
              "    .dataframe tbody tr th:only-of-type {\n",
              "        vertical-align: middle;\n",
              "    }\n",
              "\n",
              "    .dataframe tbody tr th {\n",
              "        vertical-align: top;\n",
              "    }\n",
              "\n",
              "    .dataframe thead th {\n",
              "        text-align: right;\n",
              "    }\n",
              "</style>\n",
              "<table border=\"1\" class=\"dataframe\">\n",
              "  <thead>\n",
              "    <tr style=\"text-align: right;\">\n",
              "      <th></th>\n",
              "      <th>index</th>\n",
              "      <th>start_station_name</th>\n",
              "      <th>mnth_yr</th>\n",
              "      <th>mnth_yr_count</th>\n",
              "    </tr>\n",
              "  </thead>\n",
              "  <tbody>\n",
              "    <tr>\n",
              "      <th>0</th>\n",
              "      <td>13336</td>\n",
              "      <td>Streeter Dr &amp; Grand Ave</td>\n",
              "      <td>2021 Jul</td>\n",
              "      <td>16974</td>\n",
              "    </tr>\n",
              "    <tr>\n",
              "      <th>1</th>\n",
              "      <td>13333</td>\n",
              "      <td>Streeter Dr &amp; Grand Ave</td>\n",
              "      <td>2021 Aug</td>\n",
              "      <td>14503</td>\n",
              "    </tr>\n",
              "    <tr>\n",
              "      <th>2</th>\n",
              "      <td>13337</td>\n",
              "      <td>Streeter Dr &amp; Grand Ave</td>\n",
              "      <td>2021 Jun</td>\n",
              "      <td>14048</td>\n",
              "    </tr>\n",
              "    <tr>\n",
              "      <th>3</th>\n",
              "      <td>13339</td>\n",
              "      <td>Streeter Dr &amp; Grand Ave</td>\n",
              "      <td>2021 May</td>\n",
              "      <td>10199</td>\n",
              "    </tr>\n",
              "    <tr>\n",
              "      <th>4</th>\n",
              "      <td>13319</td>\n",
              "      <td>Streeter Dr &amp; Grand Ave</td>\n",
              "      <td>2019 Sep</td>\n",
              "      <td>9783</td>\n",
              "    </tr>\n",
              "    <tr>\n",
              "      <th>5</th>\n",
              "      <td>13321</td>\n",
              "      <td>Streeter Dr &amp; Grand Ave</td>\n",
              "      <td>2020 Aug</td>\n",
              "      <td>9333</td>\n",
              "    </tr>\n",
              "    <tr>\n",
              "      <th>6</th>\n",
              "      <td>5010</td>\n",
              "      <td>DuSable Lake Shore Dr &amp; North Blvd</td>\n",
              "      <td>2021 Aug</td>\n",
              "      <td>9323</td>\n",
              "    </tr>\n",
              "    <tr>\n",
              "      <th>7</th>\n",
              "      <td>13379</td>\n",
              "      <td>Theater on the Lake</td>\n",
              "      <td>2020 Aug</td>\n",
              "      <td>8738</td>\n",
              "    </tr>\n",
              "    <tr>\n",
              "      <th>8</th>\n",
              "      <td>8063</td>\n",
              "      <td>Lake Shore Dr &amp; North Blvd</td>\n",
              "      <td>2021 Jun</td>\n",
              "      <td>8721</td>\n",
              "    </tr>\n",
              "    <tr>\n",
              "      <th>9</th>\n",
              "      <td>13325</td>\n",
              "      <td>Streeter Dr &amp; Grand Ave</td>\n",
              "      <td>2020 Jul</td>\n",
              "      <td>8565</td>\n",
              "    </tr>\n",
              "    <tr>\n",
              "      <th>10</th>\n",
              "      <td>9723</td>\n",
              "      <td>Michigan Ave &amp; Oak St</td>\n",
              "      <td>2021 Jul</td>\n",
              "      <td>8397</td>\n",
              "    </tr>\n",
              "    <tr>\n",
              "      <th>11</th>\n",
              "      <td>9720</td>\n",
              "      <td>Michigan Ave &amp; Oak St</td>\n",
              "      <td>2021 Aug</td>\n",
              "      <td>8102</td>\n",
              "    </tr>\n",
              "    <tr>\n",
              "      <th>12</th>\n",
              "      <td>9867</td>\n",
              "      <td>Millennium Park</td>\n",
              "      <td>2021 Jul</td>\n",
              "      <td>7630</td>\n",
              "    </tr>\n",
              "    <tr>\n",
              "      <th>13</th>\n",
              "      <td>9724</td>\n",
              "      <td>Michigan Ave &amp; Oak St</td>\n",
              "      <td>2021 Jun</td>\n",
              "      <td>7228</td>\n",
              "    </tr>\n",
              "    <tr>\n",
              "      <th>14</th>\n",
              "      <td>13391</td>\n",
              "      <td>Theater on the Lake</td>\n",
              "      <td>2021 Aug</td>\n",
              "      <td>7160</td>\n",
              "    </tr>\n",
              "    <tr>\n",
              "      <th>15</th>\n",
              "      <td>14174</td>\n",
              "      <td>Wells St &amp; Concord Ln</td>\n",
              "      <td>2021 Jul</td>\n",
              "      <td>6932</td>\n",
              "    </tr>\n",
              "    <tr>\n",
              "      <th>16</th>\n",
              "      <td>8040</td>\n",
              "      <td>Lake Shore Dr &amp; Monroe St</td>\n",
              "      <td>2021 Jun</td>\n",
              "      <td>6920</td>\n",
              "    </tr>\n",
              "    <tr>\n",
              "      <th>17</th>\n",
              "      <td>13394</td>\n",
              "      <td>Theater on the Lake</td>\n",
              "      <td>2021 Jul</td>\n",
              "      <td>6919</td>\n",
              "    </tr>\n",
              "    <tr>\n",
              "      <th>18</th>\n",
              "      <td>14171</td>\n",
              "      <td>Wells St &amp; Concord Ln</td>\n",
              "      <td>2021 Aug</td>\n",
              "      <td>6893</td>\n",
              "    </tr>\n",
              "    <tr>\n",
              "      <th>19</th>\n",
              "      <td>8025</td>\n",
              "      <td>Lake Shore Dr &amp; Monroe St</td>\n",
              "      <td>2020 Aug</td>\n",
              "      <td>6851</td>\n",
              "    </tr>\n",
              "    <tr>\n",
              "      <th>20</th>\n",
              "      <td>5008</td>\n",
              "      <td>DuSable Lake Shore Dr &amp; Monroe St</td>\n",
              "      <td>2021 Aug</td>\n",
              "      <td>6567</td>\n",
              "    </tr>\n",
              "    <tr>\n",
              "      <th>21</th>\n",
              "      <td>2039</td>\n",
              "      <td>Canal St &amp; Adams St</td>\n",
              "      <td>2019 Oct</td>\n",
              "      <td>6564</td>\n",
              "    </tr>\n",
              "    <tr>\n",
              "      <th>22</th>\n",
              "      <td>2040</td>\n",
              "      <td>Canal St &amp; Adams St</td>\n",
              "      <td>2019 Sep</td>\n",
              "      <td>6537</td>\n",
              "    </tr>\n",
              "    <tr>\n",
              "      <th>23</th>\n",
              "      <td>8023</td>\n",
              "      <td>Lake Shore Dr &amp; Monroe St</td>\n",
              "      <td>2019 Sep</td>\n",
              "      <td>6467</td>\n",
              "    </tr>\n",
              "    <tr>\n",
              "      <th>24</th>\n",
              "      <td>9864</td>\n",
              "      <td>Millennium Park</td>\n",
              "      <td>2021 Aug</td>\n",
              "      <td>6464</td>\n",
              "    </tr>\n",
              "    <tr>\n",
              "      <th>25</th>\n",
              "      <td>8048</td>\n",
              "      <td>Lake Shore Dr &amp; North Blvd</td>\n",
              "      <td>2020 Aug</td>\n",
              "      <td>6391</td>\n",
              "    </tr>\n",
              "    <tr>\n",
              "      <th>26</th>\n",
              "      <td>8062</td>\n",
              "      <td>Lake Shore Dr &amp; North Blvd</td>\n",
              "      <td>2021 Jul</td>\n",
              "      <td>6376</td>\n",
              "    </tr>\n",
              "    <tr>\n",
              "      <th>27</th>\n",
              "      <td>8029</td>\n",
              "      <td>Lake Shore Dr &amp; Monroe St</td>\n",
              "      <td>2020 Jul</td>\n",
              "      <td>6359</td>\n",
              "    </tr>\n",
              "    <tr>\n",
              "      <th>28</th>\n",
              "      <td>14175</td>\n",
              "      <td>Wells St &amp; Concord Ln</td>\n",
              "      <td>2021 Jun</td>\n",
              "      <td>6164</td>\n",
              "    </tr>\n",
              "    <tr>\n",
              "      <th>29</th>\n",
              "      <td>13383</td>\n",
              "      <td>Theater on the Lake</td>\n",
              "      <td>2020 Jul</td>\n",
              "      <td>6155</td>\n",
              "    </tr>\n",
              "    <tr>\n",
              "      <th>30</th>\n",
              "      <td>9868</td>\n",
              "      <td>Millennium Park</td>\n",
              "      <td>2021 Jun</td>\n",
              "      <td>6154</td>\n",
              "    </tr>\n",
              "    <tr>\n",
              "      <th>31</th>\n",
              "      <td>8042</td>\n",
              "      <td>Lake Shore Dr &amp; Monroe St</td>\n",
              "      <td>2021 May</td>\n",
              "      <td>6096</td>\n",
              "    </tr>\n",
              "    <tr>\n",
              "      <th>32</th>\n",
              "      <td>3021</td>\n",
              "      <td>Clark St &amp; Elm St</td>\n",
              "      <td>2021 Jul</td>\n",
              "      <td>6082</td>\n",
              "    </tr>\n",
              "    <tr>\n",
              "      <th>33</th>\n",
              "      <td>3556</td>\n",
              "      <td>Clinton St &amp; Madison St</td>\n",
              "      <td>2019 Sep</td>\n",
              "      <td>6064</td>\n",
              "    </tr>\n",
              "    <tr>\n",
              "      <th>34</th>\n",
              "      <td>8052</td>\n",
              "      <td>Lake Shore Dr &amp; North Blvd</td>\n",
              "      <td>2020 Jul</td>\n",
              "      <td>6060</td>\n",
              "    </tr>\n",
              "    <tr>\n",
              "      <th>35</th>\n",
              "      <td>3022</td>\n",
              "      <td>Clark St &amp; Elm St</td>\n",
              "      <td>2021 Jun</td>\n",
              "      <td>5923</td>\n",
              "    </tr>\n",
              "    <tr>\n",
              "      <th>36</th>\n",
              "      <td>14198</td>\n",
              "      <td>Wells St &amp; Elm St</td>\n",
              "      <td>2021 Jul</td>\n",
              "      <td>5795</td>\n",
              "    </tr>\n",
              "    <tr>\n",
              "      <th>37</th>\n",
              "      <td>13395</td>\n",
              "      <td>Theater on the Lake</td>\n",
              "      <td>2021 Jun</td>\n",
              "      <td>5786</td>\n",
              "    </tr>\n",
              "    <tr>\n",
              "      <th>38</th>\n",
              "      <td>14195</td>\n",
              "      <td>Wells St &amp; Elm St</td>\n",
              "      <td>2021 Aug</td>\n",
              "      <td>5776</td>\n",
              "    </tr>\n",
              "    <tr>\n",
              "      <th>39</th>\n",
              "      <td>3189</td>\n",
              "      <td>Clark St &amp; Lincoln Ave</td>\n",
              "      <td>2021 Jul</td>\n",
              "      <td>5649</td>\n",
              "    </tr>\n",
              "    <tr>\n",
              "      <th>40</th>\n",
              "      <td>13389</td>\n",
              "      <td>Theater on the Lake</td>\n",
              "      <td>2020 Sep</td>\n",
              "      <td>5620</td>\n",
              "    </tr>\n",
              "    <tr>\n",
              "      <th>41</th>\n",
              "      <td>3006</td>\n",
              "      <td>Clark St &amp; Elm St</td>\n",
              "      <td>2020 Aug</td>\n",
              "      <td>5608</td>\n",
              "    </tr>\n",
              "    <tr>\n",
              "      <th>42</th>\n",
              "      <td>13331</td>\n",
              "      <td>Streeter Dr &amp; Grand Ave</td>\n",
              "      <td>2020 Sep</td>\n",
              "      <td>5591</td>\n",
              "    </tr>\n",
              "    <tr>\n",
              "      <th>43</th>\n",
              "      <td>3018</td>\n",
              "      <td>Clark St &amp; Elm St</td>\n",
              "      <td>2021 Aug</td>\n",
              "      <td>5561</td>\n",
              "    </tr>\n",
              "    <tr>\n",
              "      <th>44</th>\n",
              "      <td>3652</td>\n",
              "      <td>Clinton St &amp; Washington Blvd</td>\n",
              "      <td>2019 Sep</td>\n",
              "      <td>5477</td>\n",
              "    </tr>\n",
              "    <tr>\n",
              "      <th>45</th>\n",
              "      <td>2877</td>\n",
              "      <td>Clark St &amp; Armitage Ave</td>\n",
              "      <td>2021 Jul</td>\n",
              "      <td>5439</td>\n",
              "    </tr>\n",
              "    <tr>\n",
              "      <th>46</th>\n",
              "      <td>3190</td>\n",
              "      <td>Clark St &amp; Lincoln Ave</td>\n",
              "      <td>2021 Jun</td>\n",
              "      <td>5411</td>\n",
              "    </tr>\n",
              "    <tr>\n",
              "      <th>47</th>\n",
              "      <td>9708</td>\n",
              "      <td>Michigan Ave &amp; Oak St</td>\n",
              "      <td>2020 Aug</td>\n",
              "      <td>5374</td>\n",
              "    </tr>\n",
              "    <tr>\n",
              "      <th>48</th>\n",
              "      <td>8039</td>\n",
              "      <td>Lake Shore Dr &amp; Monroe St</td>\n",
              "      <td>2021 Jul</td>\n",
              "      <td>5372</td>\n",
              "    </tr>\n",
              "    <tr>\n",
              "      <th>49</th>\n",
              "      <td>13899</td>\n",
              "      <td>Wabash Ave &amp; Grand Ave</td>\n",
              "      <td>2021 Jul</td>\n",
              "      <td>5364</td>\n",
              "    </tr>\n",
              "    <tr>\n",
              "      <th>50</th>\n",
              "      <td>3555</td>\n",
              "      <td>Clinton St &amp; Madison St</td>\n",
              "      <td>2019 Oct</td>\n",
              "      <td>5340</td>\n",
              "    </tr>\n",
              "    <tr>\n",
              "      <th>51</th>\n",
              "      <td>3186</td>\n",
              "      <td>Clark St &amp; Lincoln Ave</td>\n",
              "      <td>2021 Aug</td>\n",
              "      <td>5282</td>\n",
              "    </tr>\n",
              "    <tr>\n",
              "      <th>52</th>\n",
              "      <td>8035</td>\n",
              "      <td>Lake Shore Dr &amp; Monroe St</td>\n",
              "      <td>2020 Sep</td>\n",
              "      <td>5213</td>\n",
              "    </tr>\n",
              "    <tr>\n",
              "      <th>53</th>\n",
              "      <td>8094</td>\n",
              "      <td>Lake Shore Dr &amp; Wellington Ave</td>\n",
              "      <td>2020 Aug</td>\n",
              "      <td>5119</td>\n",
              "    </tr>\n",
              "    <tr>\n",
              "      <th>54</th>\n",
              "      <td>9850</td>\n",
              "      <td>Millennium Park</td>\n",
              "      <td>2019 Sep</td>\n",
              "      <td>5070</td>\n",
              "    </tr>\n",
              "    <tr>\n",
              "      <th>55</th>\n",
              "      <td>11843</td>\n",
              "      <td>Shedd Aquarium</td>\n",
              "      <td>2021 Jul</td>\n",
              "      <td>5060</td>\n",
              "    </tr>\n",
              "    <tr>\n",
              "      <th>56</th>\n",
              "      <td>1176</td>\n",
              "      <td>Broadway &amp; Barry Ave</td>\n",
              "      <td>2021 Aug</td>\n",
              "      <td>5059</td>\n",
              "    </tr>\n",
              "    <tr>\n",
              "      <th>57</th>\n",
              "      <td>3010</td>\n",
              "      <td>Clark St &amp; Elm St</td>\n",
              "      <td>2020 Jul</td>\n",
              "      <td>5046</td>\n",
              "    </tr>\n",
              "    <tr>\n",
              "      <th>58</th>\n",
              "      <td>14199</td>\n",
              "      <td>Wells St &amp; Elm St</td>\n",
              "      <td>2021 Jun</td>\n",
              "      <td>5041</td>\n",
              "    </tr>\n",
              "    <tr>\n",
              "      <th>59</th>\n",
              "      <td>9856</td>\n",
              "      <td>Millennium Park</td>\n",
              "      <td>2020 Jul</td>\n",
              "      <td>5016</td>\n",
              "    </tr>\n",
              "  </tbody>\n",
              "</table>\n",
              "</div>"
            ],
            "text/plain": [
              "    index                  start_station_name   mnth_yr  mnth_yr_count\n",
              "0   13336             Streeter Dr & Grand Ave  2021 Jul          16974\n",
              "1   13333             Streeter Dr & Grand Ave  2021 Aug          14503\n",
              "2   13337             Streeter Dr & Grand Ave  2021 Jun          14048\n",
              "3   13339             Streeter Dr & Grand Ave  2021 May          10199\n",
              "4   13319             Streeter Dr & Grand Ave  2019 Sep           9783\n",
              "5   13321             Streeter Dr & Grand Ave  2020 Aug           9333\n",
              "6    5010  DuSable Lake Shore Dr & North Blvd  2021 Aug           9323\n",
              "7   13379                 Theater on the Lake  2020 Aug           8738\n",
              "8    8063          Lake Shore Dr & North Blvd  2021 Jun           8721\n",
              "9   13325             Streeter Dr & Grand Ave  2020 Jul           8565\n",
              "10   9723               Michigan Ave & Oak St  2021 Jul           8397\n",
              "11   9720               Michigan Ave & Oak St  2021 Aug           8102\n",
              "12   9867                     Millennium Park  2021 Jul           7630\n",
              "13   9724               Michigan Ave & Oak St  2021 Jun           7228\n",
              "14  13391                 Theater on the Lake  2021 Aug           7160\n",
              "15  14174               Wells St & Concord Ln  2021 Jul           6932\n",
              "16   8040           Lake Shore Dr & Monroe St  2021 Jun           6920\n",
              "17  13394                 Theater on the Lake  2021 Jul           6919\n",
              "18  14171               Wells St & Concord Ln  2021 Aug           6893\n",
              "19   8025           Lake Shore Dr & Monroe St  2020 Aug           6851\n",
              "20   5008   DuSable Lake Shore Dr & Monroe St  2021 Aug           6567\n",
              "21   2039                 Canal St & Adams St  2019 Oct           6564\n",
              "22   2040                 Canal St & Adams St  2019 Sep           6537\n",
              "23   8023           Lake Shore Dr & Monroe St  2019 Sep           6467\n",
              "24   9864                     Millennium Park  2021 Aug           6464\n",
              "25   8048          Lake Shore Dr & North Blvd  2020 Aug           6391\n",
              "26   8062          Lake Shore Dr & North Blvd  2021 Jul           6376\n",
              "27   8029           Lake Shore Dr & Monroe St  2020 Jul           6359\n",
              "28  14175               Wells St & Concord Ln  2021 Jun           6164\n",
              "29  13383                 Theater on the Lake  2020 Jul           6155\n",
              "30   9868                     Millennium Park  2021 Jun           6154\n",
              "31   8042           Lake Shore Dr & Monroe St  2021 May           6096\n",
              "32   3021                   Clark St & Elm St  2021 Jul           6082\n",
              "33   3556             Clinton St & Madison St  2019 Sep           6064\n",
              "34   8052          Lake Shore Dr & North Blvd  2020 Jul           6060\n",
              "35   3022                   Clark St & Elm St  2021 Jun           5923\n",
              "36  14198                   Wells St & Elm St  2021 Jul           5795\n",
              "37  13395                 Theater on the Lake  2021 Jun           5786\n",
              "38  14195                   Wells St & Elm St  2021 Aug           5776\n",
              "39   3189              Clark St & Lincoln Ave  2021 Jul           5649\n",
              "40  13389                 Theater on the Lake  2020 Sep           5620\n",
              "41   3006                   Clark St & Elm St  2020 Aug           5608\n",
              "42  13331             Streeter Dr & Grand Ave  2020 Sep           5591\n",
              "43   3018                   Clark St & Elm St  2021 Aug           5561\n",
              "44   3652        Clinton St & Washington Blvd  2019 Sep           5477\n",
              "45   2877             Clark St & Armitage Ave  2021 Jul           5439\n",
              "46   3190              Clark St & Lincoln Ave  2021 Jun           5411\n",
              "47   9708               Michigan Ave & Oak St  2020 Aug           5374\n",
              "48   8039           Lake Shore Dr & Monroe St  2021 Jul           5372\n",
              "49  13899              Wabash Ave & Grand Ave  2021 Jul           5364\n",
              "50   3555             Clinton St & Madison St  2019 Oct           5340\n",
              "51   3186              Clark St & Lincoln Ave  2021 Aug           5282\n",
              "52   8035           Lake Shore Dr & Monroe St  2020 Sep           5213\n",
              "53   8094      Lake Shore Dr & Wellington Ave  2020 Aug           5119\n",
              "54   9850                     Millennium Park  2019 Sep           5070\n",
              "55  11843                      Shedd Aquarium  2021 Jul           5060\n",
              "56   1176                Broadway & Barry Ave  2021 Aug           5059\n",
              "57   3010                   Clark St & Elm St  2020 Jul           5046\n",
              "58  14199                   Wells St & Elm St  2021 Jun           5041\n",
              "59   9856                     Millennium Park  2020 Jul           5016"
            ]
          },
          "execution_count": 89,
          "metadata": {},
          "output_type": "execute_result"
        }
      ],
      "source": [
        "mnth_yr_count_df1 = divvy_history.groupby(['start_station_name', 'mnth_yr']).size().reset_index().rename(columns={0: 'mnth_yr_count'}).sort_values(by=['mnth_yr_count', 'start_station_name'], ascending=False) \n",
        "count_df1 = pd.DataFrame(mnth_yr_count_df1)\n",
        "count_df1.reset_index(level=0, inplace=True)\n",
        "count_df1 = count_df1.head(60)\n",
        "count_df1"
      ]
    },
    {
      "cell_type": "code",
      "execution_count": 90,
      "metadata": {},
      "outputs": [
        {
          "data": {
            "text/html": [
              "<div>\n",
              "<style scoped>\n",
              "    .dataframe tbody tr th:only-of-type {\n",
              "        vertical-align: middle;\n",
              "    }\n",
              "\n",
              "    .dataframe tbody tr th {\n",
              "        vertical-align: top;\n",
              "    }\n",
              "\n",
              "    .dataframe thead th {\n",
              "        text-align: right;\n",
              "    }\n",
              "</style>\n",
              "<table border=\"1\" class=\"dataframe\">\n",
              "  <thead>\n",
              "    <tr style=\"text-align: right;\">\n",
              "      <th>mnth_yr</th>\n",
              "      <th>2019 Oct</th>\n",
              "      <th>2019 Sep</th>\n",
              "      <th>2020 Aug</th>\n",
              "      <th>2020 Jul</th>\n",
              "      <th>2020 Sep</th>\n",
              "      <th>2021 Aug</th>\n",
              "      <th>2021 Jul</th>\n",
              "      <th>2021 Jun</th>\n",
              "      <th>2021 May</th>\n",
              "    </tr>\n",
              "    <tr>\n",
              "      <th>start_station_name</th>\n",
              "      <th></th>\n",
              "      <th></th>\n",
              "      <th></th>\n",
              "      <th></th>\n",
              "      <th></th>\n",
              "      <th></th>\n",
              "      <th></th>\n",
              "      <th></th>\n",
              "      <th></th>\n",
              "    </tr>\n",
              "  </thead>\n",
              "  <tbody>\n",
              "    <tr>\n",
              "      <th>Broadway &amp; Barry Ave</th>\n",
              "      <td>0</td>\n",
              "      <td>0</td>\n",
              "      <td>0</td>\n",
              "      <td>0</td>\n",
              "      <td>0</td>\n",
              "      <td>5059.0</td>\n",
              "      <td>0</td>\n",
              "      <td>0</td>\n",
              "      <td>0</td>\n",
              "    </tr>\n",
              "    <tr>\n",
              "      <th>Canal St &amp; Adams St</th>\n",
              "      <td>6564.0</td>\n",
              "      <td>6537.0</td>\n",
              "      <td>0</td>\n",
              "      <td>0</td>\n",
              "      <td>0</td>\n",
              "      <td>0</td>\n",
              "      <td>0</td>\n",
              "      <td>0</td>\n",
              "      <td>0</td>\n",
              "    </tr>\n",
              "    <tr>\n",
              "      <th>Clark St &amp; Armitage Ave</th>\n",
              "      <td>0</td>\n",
              "      <td>0</td>\n",
              "      <td>0</td>\n",
              "      <td>0</td>\n",
              "      <td>0</td>\n",
              "      <td>0</td>\n",
              "      <td>5439.0</td>\n",
              "      <td>0</td>\n",
              "      <td>0</td>\n",
              "    </tr>\n",
              "    <tr>\n",
              "      <th>Clark St &amp; Elm St</th>\n",
              "      <td>0</td>\n",
              "      <td>0</td>\n",
              "      <td>5608.0</td>\n",
              "      <td>5046.0</td>\n",
              "      <td>0</td>\n",
              "      <td>5561.0</td>\n",
              "      <td>6082.0</td>\n",
              "      <td>5923.0</td>\n",
              "      <td>0</td>\n",
              "    </tr>\n",
              "    <tr>\n",
              "      <th>Clark St &amp; Lincoln Ave</th>\n",
              "      <td>0</td>\n",
              "      <td>0</td>\n",
              "      <td>0</td>\n",
              "      <td>0</td>\n",
              "      <td>0</td>\n",
              "      <td>5282.0</td>\n",
              "      <td>5649.0</td>\n",
              "      <td>5411.0</td>\n",
              "      <td>0</td>\n",
              "    </tr>\n",
              "    <tr>\n",
              "      <th>Clinton St &amp; Madison St</th>\n",
              "      <td>5340.0</td>\n",
              "      <td>6064.0</td>\n",
              "      <td>0</td>\n",
              "      <td>0</td>\n",
              "      <td>0</td>\n",
              "      <td>0</td>\n",
              "      <td>0</td>\n",
              "      <td>0</td>\n",
              "      <td>0</td>\n",
              "    </tr>\n",
              "    <tr>\n",
              "      <th>Clinton St &amp; Washington Blvd</th>\n",
              "      <td>0</td>\n",
              "      <td>5477.0</td>\n",
              "      <td>0</td>\n",
              "      <td>0</td>\n",
              "      <td>0</td>\n",
              "      <td>0</td>\n",
              "      <td>0</td>\n",
              "      <td>0</td>\n",
              "      <td>0</td>\n",
              "    </tr>\n",
              "    <tr>\n",
              "      <th>DuSable Lake Shore Dr &amp; Monroe St</th>\n",
              "      <td>0</td>\n",
              "      <td>0</td>\n",
              "      <td>0</td>\n",
              "      <td>0</td>\n",
              "      <td>0</td>\n",
              "      <td>6567.0</td>\n",
              "      <td>0</td>\n",
              "      <td>0</td>\n",
              "      <td>0</td>\n",
              "    </tr>\n",
              "    <tr>\n",
              "      <th>DuSable Lake Shore Dr &amp; North Blvd</th>\n",
              "      <td>0</td>\n",
              "      <td>0</td>\n",
              "      <td>0</td>\n",
              "      <td>0</td>\n",
              "      <td>0</td>\n",
              "      <td>9323.0</td>\n",
              "      <td>0</td>\n",
              "      <td>0</td>\n",
              "      <td>0</td>\n",
              "    </tr>\n",
              "    <tr>\n",
              "      <th>Lake Shore Dr &amp; Monroe St</th>\n",
              "      <td>0</td>\n",
              "      <td>6467.0</td>\n",
              "      <td>6851.0</td>\n",
              "      <td>6359.0</td>\n",
              "      <td>5213.0</td>\n",
              "      <td>0</td>\n",
              "      <td>5372.0</td>\n",
              "      <td>6920.0</td>\n",
              "      <td>6096.0</td>\n",
              "    </tr>\n",
              "    <tr>\n",
              "      <th>Lake Shore Dr &amp; North Blvd</th>\n",
              "      <td>0</td>\n",
              "      <td>0</td>\n",
              "      <td>6391.0</td>\n",
              "      <td>6060.0</td>\n",
              "      <td>0</td>\n",
              "      <td>0</td>\n",
              "      <td>6376.0</td>\n",
              "      <td>8721.0</td>\n",
              "      <td>0</td>\n",
              "    </tr>\n",
              "    <tr>\n",
              "      <th>Lake Shore Dr &amp; Wellington Ave</th>\n",
              "      <td>0</td>\n",
              "      <td>0</td>\n",
              "      <td>5119.0</td>\n",
              "      <td>0</td>\n",
              "      <td>0</td>\n",
              "      <td>0</td>\n",
              "      <td>0</td>\n",
              "      <td>0</td>\n",
              "      <td>0</td>\n",
              "    </tr>\n",
              "    <tr>\n",
              "      <th>Michigan Ave &amp; Oak St</th>\n",
              "      <td>0</td>\n",
              "      <td>0</td>\n",
              "      <td>5374.0</td>\n",
              "      <td>0</td>\n",
              "      <td>0</td>\n",
              "      <td>8102.0</td>\n",
              "      <td>8397.0</td>\n",
              "      <td>7228.0</td>\n",
              "      <td>0</td>\n",
              "    </tr>\n",
              "    <tr>\n",
              "      <th>Millennium Park</th>\n",
              "      <td>0</td>\n",
              "      <td>5070.0</td>\n",
              "      <td>0</td>\n",
              "      <td>5016.0</td>\n",
              "      <td>0</td>\n",
              "      <td>6464.0</td>\n",
              "      <td>7630.0</td>\n",
              "      <td>6154.0</td>\n",
              "      <td>0</td>\n",
              "    </tr>\n",
              "    <tr>\n",
              "      <th>Shedd Aquarium</th>\n",
              "      <td>0</td>\n",
              "      <td>0</td>\n",
              "      <td>0</td>\n",
              "      <td>0</td>\n",
              "      <td>0</td>\n",
              "      <td>0</td>\n",
              "      <td>5060.0</td>\n",
              "      <td>0</td>\n",
              "      <td>0</td>\n",
              "    </tr>\n",
              "    <tr>\n",
              "      <th>Streeter Dr &amp; Grand Ave</th>\n",
              "      <td>0</td>\n",
              "      <td>9783.0</td>\n",
              "      <td>9333.0</td>\n",
              "      <td>8565.0</td>\n",
              "      <td>5591.0</td>\n",
              "      <td>14503.0</td>\n",
              "      <td>16974.0</td>\n",
              "      <td>14048.0</td>\n",
              "      <td>10199.0</td>\n",
              "    </tr>\n",
              "    <tr>\n",
              "      <th>Theater on the Lake</th>\n",
              "      <td>0</td>\n",
              "      <td>0</td>\n",
              "      <td>8738.0</td>\n",
              "      <td>6155.0</td>\n",
              "      <td>5620.0</td>\n",
              "      <td>7160.0</td>\n",
              "      <td>6919.0</td>\n",
              "      <td>5786.0</td>\n",
              "      <td>0</td>\n",
              "    </tr>\n",
              "    <tr>\n",
              "      <th>Wabash Ave &amp; Grand Ave</th>\n",
              "      <td>0</td>\n",
              "      <td>0</td>\n",
              "      <td>0</td>\n",
              "      <td>0</td>\n",
              "      <td>0</td>\n",
              "      <td>0</td>\n",
              "      <td>5364.0</td>\n",
              "      <td>0</td>\n",
              "      <td>0</td>\n",
              "    </tr>\n",
              "    <tr>\n",
              "      <th>Wells St &amp; Concord Ln</th>\n",
              "      <td>0</td>\n",
              "      <td>0</td>\n",
              "      <td>0</td>\n",
              "      <td>0</td>\n",
              "      <td>0</td>\n",
              "      <td>6893.0</td>\n",
              "      <td>6932.0</td>\n",
              "      <td>6164.0</td>\n",
              "      <td>0</td>\n",
              "    </tr>\n",
              "    <tr>\n",
              "      <th>Wells St &amp; Elm St</th>\n",
              "      <td>0</td>\n",
              "      <td>0</td>\n",
              "      <td>0</td>\n",
              "      <td>0</td>\n",
              "      <td>0</td>\n",
              "      <td>5776.0</td>\n",
              "      <td>5795.0</td>\n",
              "      <td>5041.0</td>\n",
              "      <td>0</td>\n",
              "    </tr>\n",
              "  </tbody>\n",
              "</table>\n",
              "</div>"
            ],
            "text/plain": [
              "mnth_yr                            2019 Oct 2019 Sep 2020 Aug 2020 Jul  \\\n",
              "start_station_name                                                       \n",
              "Broadway & Barry Ave                      0        0        0        0   \n",
              "Canal St & Adams St                  6564.0   6537.0        0        0   \n",
              "Clark St & Armitage Ave                   0        0        0        0   \n",
              "Clark St & Elm St                         0        0   5608.0   5046.0   \n",
              "Clark St & Lincoln Ave                    0        0        0        0   \n",
              "Clinton St & Madison St              5340.0   6064.0        0        0   \n",
              "Clinton St & Washington Blvd              0   5477.0        0        0   \n",
              "DuSable Lake Shore Dr & Monroe St         0        0        0        0   \n",
              "DuSable Lake Shore Dr & North Blvd        0        0        0        0   \n",
              "Lake Shore Dr & Monroe St                 0   6467.0   6851.0   6359.0   \n",
              "Lake Shore Dr & North Blvd                0        0   6391.0   6060.0   \n",
              "Lake Shore Dr & Wellington Ave            0        0   5119.0        0   \n",
              "Michigan Ave & Oak St                     0        0   5374.0        0   \n",
              "Millennium Park                           0   5070.0        0   5016.0   \n",
              "Shedd Aquarium                            0        0        0        0   \n",
              "Streeter Dr & Grand Ave                   0   9783.0   9333.0   8565.0   \n",
              "Theater on the Lake                       0        0   8738.0   6155.0   \n",
              "Wabash Ave & Grand Ave                    0        0        0        0   \n",
              "Wells St & Concord Ln                     0        0        0        0   \n",
              "Wells St & Elm St                         0        0        0        0   \n",
              "\n",
              "mnth_yr                            2020 Sep 2021 Aug 2021 Jul 2021 Jun  \\\n",
              "start_station_name                                                       \n",
              "Broadway & Barry Ave                      0   5059.0        0        0   \n",
              "Canal St & Adams St                       0        0        0        0   \n",
              "Clark St & Armitage Ave                   0        0   5439.0        0   \n",
              "Clark St & Elm St                         0   5561.0   6082.0   5923.0   \n",
              "Clark St & Lincoln Ave                    0   5282.0   5649.0   5411.0   \n",
              "Clinton St & Madison St                   0        0        0        0   \n",
              "Clinton St & Washington Blvd              0        0        0        0   \n",
              "DuSable Lake Shore Dr & Monroe St         0   6567.0        0        0   \n",
              "DuSable Lake Shore Dr & North Blvd        0   9323.0        0        0   \n",
              "Lake Shore Dr & Monroe St            5213.0        0   5372.0   6920.0   \n",
              "Lake Shore Dr & North Blvd                0        0   6376.0   8721.0   \n",
              "Lake Shore Dr & Wellington Ave            0        0        0        0   \n",
              "Michigan Ave & Oak St                     0   8102.0   8397.0   7228.0   \n",
              "Millennium Park                           0   6464.0   7630.0   6154.0   \n",
              "Shedd Aquarium                            0        0   5060.0        0   \n",
              "Streeter Dr & Grand Ave              5591.0  14503.0  16974.0  14048.0   \n",
              "Theater on the Lake                  5620.0   7160.0   6919.0   5786.0   \n",
              "Wabash Ave & Grand Ave                    0        0   5364.0        0   \n",
              "Wells St & Concord Ln                     0   6893.0   6932.0   6164.0   \n",
              "Wells St & Elm St                         0   5776.0   5795.0   5041.0   \n",
              "\n",
              "mnth_yr                            2021 May  \n",
              "start_station_name                           \n",
              "Broadway & Barry Ave                      0  \n",
              "Canal St & Adams St                       0  \n",
              "Clark St & Armitage Ave                   0  \n",
              "Clark St & Elm St                         0  \n",
              "Clark St & Lincoln Ave                    0  \n",
              "Clinton St & Madison St                   0  \n",
              "Clinton St & Washington Blvd              0  \n",
              "DuSable Lake Shore Dr & Monroe St         0  \n",
              "DuSable Lake Shore Dr & North Blvd        0  \n",
              "Lake Shore Dr & Monroe St            6096.0  \n",
              "Lake Shore Dr & North Blvd                0  \n",
              "Lake Shore Dr & Wellington Ave            0  \n",
              "Michigan Ave & Oak St                     0  \n",
              "Millennium Park                           0  \n",
              "Shedd Aquarium                            0  \n",
              "Streeter Dr & Grand Ave             10199.0  \n",
              "Theater on the Lake                       0  \n",
              "Wabash Ave & Grand Ave                    0  \n",
              "Wells St & Concord Ln                     0  \n",
              "Wells St & Elm St                         0  "
            ]
          },
          "execution_count": 90,
          "metadata": {},
          "output_type": "execute_result"
        }
      ],
      "source": [
        "# Create a pivot table\n",
        "result1 = count_df1.pivot_table(\n",
        "    index='start_station_name',\n",
        "    columns='mnth_yr',\n",
        "    values='mnth_yr_count')\n",
        "result1 = result1.fillna(\"0\")\n",
        "\n",
        "result1"
      ]
    },
    {
      "cell_type": "code",
      "execution_count": 91,
      "metadata": {},
      "outputs": [
        {
          "data": {
            "application/vnd.plotly.v1+json": {
              "config": {
                "plotlyServerURL": "https://plot.ly"
              },
              "data": [
                {
                  "coloraxis": "coloraxis",
                  "hovertemplate": "mnth_yr: %{x}<br>start_station_name: %{y}<br>color: %{z}<extra></extra>",
                  "name": "0",
                  "type": "heatmap",
                  "x": [
                    "2019 Oct",
                    "2019 Sep",
                    "2020 Aug",
                    "2020 Jul",
                    "2020 Sep",
                    "2021 Aug",
                    "2021 Jul",
                    "2021 Jun",
                    "2021 May"
                  ],
                  "xaxis": "x",
                  "y": [
                    "Broadway & Barry Ave",
                    "Canal St & Adams St",
                    "Clark St & Armitage Ave",
                    "Clark St & Elm St",
                    "Clark St & Lincoln Ave",
                    "Clinton St & Madison St",
                    "Clinton St & Washington Blvd",
                    "DuSable Lake Shore Dr & Monroe St",
                    "DuSable Lake Shore Dr & North Blvd",
                    "Lake Shore Dr & Monroe St",
                    "Lake Shore Dr & North Blvd",
                    "Lake Shore Dr & Wellington Ave",
                    "Michigan Ave & Oak St",
                    "Millennium Park",
                    "Shedd Aquarium",
                    "Streeter Dr & Grand Ave",
                    "Theater on the Lake",
                    "Wabash Ave & Grand Ave",
                    "Wells St & Concord Ln",
                    "Wells St & Elm St"
                  ],
                  "yaxis": "y",
                  "z": [
                    [
                      "0",
                      "0",
                      "0",
                      "0",
                      "0",
                      5059,
                      "0",
                      "0",
                      "0"
                    ],
                    [
                      6564,
                      6537,
                      "0",
                      "0",
                      "0",
                      "0",
                      "0",
                      "0",
                      "0"
                    ],
                    [
                      "0",
                      "0",
                      "0",
                      "0",
                      "0",
                      "0",
                      5439,
                      "0",
                      "0"
                    ],
                    [
                      "0",
                      "0",
                      5608,
                      5046,
                      "0",
                      5561,
                      6082,
                      5923,
                      "0"
                    ],
                    [
                      "0",
                      "0",
                      "0",
                      "0",
                      "0",
                      5282,
                      5649,
                      5411,
                      "0"
                    ],
                    [
                      5340,
                      6064,
                      "0",
                      "0",
                      "0",
                      "0",
                      "0",
                      "0",
                      "0"
                    ],
                    [
                      "0",
                      5477,
                      "0",
                      "0",
                      "0",
                      "0",
                      "0",
                      "0",
                      "0"
                    ],
                    [
                      "0",
                      "0",
                      "0",
                      "0",
                      "0",
                      6567,
                      "0",
                      "0",
                      "0"
                    ],
                    [
                      "0",
                      "0",
                      "0",
                      "0",
                      "0",
                      9323,
                      "0",
                      "0",
                      "0"
                    ],
                    [
                      "0",
                      6467,
                      6851,
                      6359,
                      5213,
                      "0",
                      5372,
                      6920,
                      6096
                    ],
                    [
                      "0",
                      "0",
                      6391,
                      6060,
                      "0",
                      "0",
                      6376,
                      8721,
                      "0"
                    ],
                    [
                      "0",
                      "0",
                      5119,
                      "0",
                      "0",
                      "0",
                      "0",
                      "0",
                      "0"
                    ],
                    [
                      "0",
                      "0",
                      5374,
                      "0",
                      "0",
                      8102,
                      8397,
                      7228,
                      "0"
                    ],
                    [
                      "0",
                      5070,
                      "0",
                      5016,
                      "0",
                      6464,
                      7630,
                      6154,
                      "0"
                    ],
                    [
                      "0",
                      "0",
                      "0",
                      "0",
                      "0",
                      "0",
                      5060,
                      "0",
                      "0"
                    ],
                    [
                      "0",
                      9783,
                      9333,
                      8565,
                      5591,
                      14503,
                      16974,
                      14048,
                      10199
                    ],
                    [
                      "0",
                      "0",
                      8738,
                      6155,
                      5620,
                      7160,
                      6919,
                      5786,
                      "0"
                    ],
                    [
                      "0",
                      "0",
                      "0",
                      "0",
                      "0",
                      "0",
                      5364,
                      "0",
                      "0"
                    ],
                    [
                      "0",
                      "0",
                      "0",
                      "0",
                      "0",
                      6893,
                      6932,
                      6164,
                      "0"
                    ],
                    [
                      "0",
                      "0",
                      "0",
                      "0",
                      "0",
                      5776,
                      5795,
                      5041,
                      "0"
                    ]
                  ]
                }
              ],
              "layout": {
                "autosize": false,
                "coloraxis": {
                  "colorscale": [
                    [
                      0,
                      "rgb(234, 252, 253)"
                    ],
                    [
                      0.09090909090909091,
                      "rgb(192, 229, 232)"
                    ],
                    [
                      0.18181818181818182,
                      "rgb(149, 207, 216)"
                    ],
                    [
                      0.2727272727272727,
                      "rgb(114, 184, 205)"
                    ],
                    [
                      0.36363636363636365,
                      "rgb(89, 159, 196)"
                    ],
                    [
                      0.45454545454545453,
                      "rgb(72, 134, 187)"
                    ],
                    [
                      0.5454545454545454,
                      "rgb(62, 109, 178)"
                    ],
                    [
                      0.6363636363636364,
                      "rgb(62, 83, 160)"
                    ],
                    [
                      0.7272727272727273,
                      "rgb(58, 60, 125)"
                    ],
                    [
                      0.8181818181818182,
                      "rgb(44, 42, 87)"
                    ],
                    [
                      0.9090909090909091,
                      "rgb(25, 25, 51)"
                    ],
                    [
                      1,
                      "rgb(3, 5, 18)"
                    ]
                  ]
                },
                "height": 900,
                "margin": {
                  "t": 60
                },
                "template": {
                  "data": {
                    "bar": [
                      {
                        "error_x": {
                          "color": "#2a3f5f"
                        },
                        "error_y": {
                          "color": "#2a3f5f"
                        },
                        "marker": {
                          "line": {
                            "color": "#E5ECF6",
                            "width": 0.5
                          },
                          "pattern": {
                            "fillmode": "overlay",
                            "size": 10,
                            "solidity": 0.2
                          }
                        },
                        "type": "bar"
                      }
                    ],
                    "barpolar": [
                      {
                        "marker": {
                          "line": {
                            "color": "#E5ECF6",
                            "width": 0.5
                          },
                          "pattern": {
                            "fillmode": "overlay",
                            "size": 10,
                            "solidity": 0.2
                          }
                        },
                        "type": "barpolar"
                      }
                    ],
                    "carpet": [
                      {
                        "aaxis": {
                          "endlinecolor": "#2a3f5f",
                          "gridcolor": "white",
                          "linecolor": "white",
                          "minorgridcolor": "white",
                          "startlinecolor": "#2a3f5f"
                        },
                        "baxis": {
                          "endlinecolor": "#2a3f5f",
                          "gridcolor": "white",
                          "linecolor": "white",
                          "minorgridcolor": "white",
                          "startlinecolor": "#2a3f5f"
                        },
                        "type": "carpet"
                      }
                    ],
                    "choropleth": [
                      {
                        "colorbar": {
                          "outlinewidth": 0,
                          "ticks": ""
                        },
                        "type": "choropleth"
                      }
                    ],
                    "contour": [
                      {
                        "colorbar": {
                          "outlinewidth": 0,
                          "ticks": ""
                        },
                        "colorscale": [
                          [
                            0,
                            "#0d0887"
                          ],
                          [
                            0.1111111111111111,
                            "#46039f"
                          ],
                          [
                            0.2222222222222222,
                            "#7201a8"
                          ],
                          [
                            0.3333333333333333,
                            "#9c179e"
                          ],
                          [
                            0.4444444444444444,
                            "#bd3786"
                          ],
                          [
                            0.5555555555555556,
                            "#d8576b"
                          ],
                          [
                            0.6666666666666666,
                            "#ed7953"
                          ],
                          [
                            0.7777777777777778,
                            "#fb9f3a"
                          ],
                          [
                            0.8888888888888888,
                            "#fdca26"
                          ],
                          [
                            1,
                            "#f0f921"
                          ]
                        ],
                        "type": "contour"
                      }
                    ],
                    "contourcarpet": [
                      {
                        "colorbar": {
                          "outlinewidth": 0,
                          "ticks": ""
                        },
                        "type": "contourcarpet"
                      }
                    ],
                    "heatmap": [
                      {
                        "colorbar": {
                          "outlinewidth": 0,
                          "ticks": ""
                        },
                        "colorscale": [
                          [
                            0,
                            "#0d0887"
                          ],
                          [
                            0.1111111111111111,
                            "#46039f"
                          ],
                          [
                            0.2222222222222222,
                            "#7201a8"
                          ],
                          [
                            0.3333333333333333,
                            "#9c179e"
                          ],
                          [
                            0.4444444444444444,
                            "#bd3786"
                          ],
                          [
                            0.5555555555555556,
                            "#d8576b"
                          ],
                          [
                            0.6666666666666666,
                            "#ed7953"
                          ],
                          [
                            0.7777777777777778,
                            "#fb9f3a"
                          ],
                          [
                            0.8888888888888888,
                            "#fdca26"
                          ],
                          [
                            1,
                            "#f0f921"
                          ]
                        ],
                        "type": "heatmap"
                      }
                    ],
                    "heatmapgl": [
                      {
                        "colorbar": {
                          "outlinewidth": 0,
                          "ticks": ""
                        },
                        "colorscale": [
                          [
                            0,
                            "#0d0887"
                          ],
                          [
                            0.1111111111111111,
                            "#46039f"
                          ],
                          [
                            0.2222222222222222,
                            "#7201a8"
                          ],
                          [
                            0.3333333333333333,
                            "#9c179e"
                          ],
                          [
                            0.4444444444444444,
                            "#bd3786"
                          ],
                          [
                            0.5555555555555556,
                            "#d8576b"
                          ],
                          [
                            0.6666666666666666,
                            "#ed7953"
                          ],
                          [
                            0.7777777777777778,
                            "#fb9f3a"
                          ],
                          [
                            0.8888888888888888,
                            "#fdca26"
                          ],
                          [
                            1,
                            "#f0f921"
                          ]
                        ],
                        "type": "heatmapgl"
                      }
                    ],
                    "histogram": [
                      {
                        "marker": {
                          "pattern": {
                            "fillmode": "overlay",
                            "size": 10,
                            "solidity": 0.2
                          }
                        },
                        "type": "histogram"
                      }
                    ],
                    "histogram2d": [
                      {
                        "colorbar": {
                          "outlinewidth": 0,
                          "ticks": ""
                        },
                        "colorscale": [
                          [
                            0,
                            "#0d0887"
                          ],
                          [
                            0.1111111111111111,
                            "#46039f"
                          ],
                          [
                            0.2222222222222222,
                            "#7201a8"
                          ],
                          [
                            0.3333333333333333,
                            "#9c179e"
                          ],
                          [
                            0.4444444444444444,
                            "#bd3786"
                          ],
                          [
                            0.5555555555555556,
                            "#d8576b"
                          ],
                          [
                            0.6666666666666666,
                            "#ed7953"
                          ],
                          [
                            0.7777777777777778,
                            "#fb9f3a"
                          ],
                          [
                            0.8888888888888888,
                            "#fdca26"
                          ],
                          [
                            1,
                            "#f0f921"
                          ]
                        ],
                        "type": "histogram2d"
                      }
                    ],
                    "histogram2dcontour": [
                      {
                        "colorbar": {
                          "outlinewidth": 0,
                          "ticks": ""
                        },
                        "colorscale": [
                          [
                            0,
                            "#0d0887"
                          ],
                          [
                            0.1111111111111111,
                            "#46039f"
                          ],
                          [
                            0.2222222222222222,
                            "#7201a8"
                          ],
                          [
                            0.3333333333333333,
                            "#9c179e"
                          ],
                          [
                            0.4444444444444444,
                            "#bd3786"
                          ],
                          [
                            0.5555555555555556,
                            "#d8576b"
                          ],
                          [
                            0.6666666666666666,
                            "#ed7953"
                          ],
                          [
                            0.7777777777777778,
                            "#fb9f3a"
                          ],
                          [
                            0.8888888888888888,
                            "#fdca26"
                          ],
                          [
                            1,
                            "#f0f921"
                          ]
                        ],
                        "type": "histogram2dcontour"
                      }
                    ],
                    "mesh3d": [
                      {
                        "colorbar": {
                          "outlinewidth": 0,
                          "ticks": ""
                        },
                        "type": "mesh3d"
                      }
                    ],
                    "parcoords": [
                      {
                        "line": {
                          "colorbar": {
                            "outlinewidth": 0,
                            "ticks": ""
                          }
                        },
                        "type": "parcoords"
                      }
                    ],
                    "pie": [
                      {
                        "automargin": true,
                        "type": "pie"
                      }
                    ],
                    "scatter": [
                      {
                        "fillpattern": {
                          "fillmode": "overlay",
                          "size": 10,
                          "solidity": 0.2
                        },
                        "type": "scatter"
                      }
                    ],
                    "scatter3d": [
                      {
                        "line": {
                          "colorbar": {
                            "outlinewidth": 0,
                            "ticks": ""
                          }
                        },
                        "marker": {
                          "colorbar": {
                            "outlinewidth": 0,
                            "ticks": ""
                          }
                        },
                        "type": "scatter3d"
                      }
                    ],
                    "scattercarpet": [
                      {
                        "marker": {
                          "colorbar": {
                            "outlinewidth": 0,
                            "ticks": ""
                          }
                        },
                        "type": "scattercarpet"
                      }
                    ],
                    "scattergeo": [
                      {
                        "marker": {
                          "colorbar": {
                            "outlinewidth": 0,
                            "ticks": ""
                          }
                        },
                        "type": "scattergeo"
                      }
                    ],
                    "scattergl": [
                      {
                        "marker": {
                          "colorbar": {
                            "outlinewidth": 0,
                            "ticks": ""
                          }
                        },
                        "type": "scattergl"
                      }
                    ],
                    "scattermapbox": [
                      {
                        "marker": {
                          "colorbar": {
                            "outlinewidth": 0,
                            "ticks": ""
                          }
                        },
                        "type": "scattermapbox"
                      }
                    ],
                    "scatterpolar": [
                      {
                        "marker": {
                          "colorbar": {
                            "outlinewidth": 0,
                            "ticks": ""
                          }
                        },
                        "type": "scatterpolar"
                      }
                    ],
                    "scatterpolargl": [
                      {
                        "marker": {
                          "colorbar": {
                            "outlinewidth": 0,
                            "ticks": ""
                          }
                        },
                        "type": "scatterpolargl"
                      }
                    ],
                    "scatterternary": [
                      {
                        "marker": {
                          "colorbar": {
                            "outlinewidth": 0,
                            "ticks": ""
                          }
                        },
                        "type": "scatterternary"
                      }
                    ],
                    "surface": [
                      {
                        "colorbar": {
                          "outlinewidth": 0,
                          "ticks": ""
                        },
                        "colorscale": [
                          [
                            0,
                            "#0d0887"
                          ],
                          [
                            0.1111111111111111,
                            "#46039f"
                          ],
                          [
                            0.2222222222222222,
                            "#7201a8"
                          ],
                          [
                            0.3333333333333333,
                            "#9c179e"
                          ],
                          [
                            0.4444444444444444,
                            "#bd3786"
                          ],
                          [
                            0.5555555555555556,
                            "#d8576b"
                          ],
                          [
                            0.6666666666666666,
                            "#ed7953"
                          ],
                          [
                            0.7777777777777778,
                            "#fb9f3a"
                          ],
                          [
                            0.8888888888888888,
                            "#fdca26"
                          ],
                          [
                            1,
                            "#f0f921"
                          ]
                        ],
                        "type": "surface"
                      }
                    ],
                    "table": [
                      {
                        "cells": {
                          "fill": {
                            "color": "#EBF0F8"
                          },
                          "line": {
                            "color": "white"
                          }
                        },
                        "header": {
                          "fill": {
                            "color": "#C8D4E3"
                          },
                          "line": {
                            "color": "white"
                          }
                        },
                        "type": "table"
                      }
                    ]
                  },
                  "layout": {
                    "annotationdefaults": {
                      "arrowcolor": "#2a3f5f",
                      "arrowhead": 0,
                      "arrowwidth": 1
                    },
                    "autotypenumbers": "strict",
                    "coloraxis": {
                      "colorbar": {
                        "outlinewidth": 0,
                        "ticks": ""
                      }
                    },
                    "colorscale": {
                      "diverging": [
                        [
                          0,
                          "#8e0152"
                        ],
                        [
                          0.1,
                          "#c51b7d"
                        ],
                        [
                          0.2,
                          "#de77ae"
                        ],
                        [
                          0.3,
                          "#f1b6da"
                        ],
                        [
                          0.4,
                          "#fde0ef"
                        ],
                        [
                          0.5,
                          "#f7f7f7"
                        ],
                        [
                          0.6,
                          "#e6f5d0"
                        ],
                        [
                          0.7,
                          "#b8e186"
                        ],
                        [
                          0.8,
                          "#7fbc41"
                        ],
                        [
                          0.9,
                          "#4d9221"
                        ],
                        [
                          1,
                          "#276419"
                        ]
                      ],
                      "sequential": [
                        [
                          0,
                          "#0d0887"
                        ],
                        [
                          0.1111111111111111,
                          "#46039f"
                        ],
                        [
                          0.2222222222222222,
                          "#7201a8"
                        ],
                        [
                          0.3333333333333333,
                          "#9c179e"
                        ],
                        [
                          0.4444444444444444,
                          "#bd3786"
                        ],
                        [
                          0.5555555555555556,
                          "#d8576b"
                        ],
                        [
                          0.6666666666666666,
                          "#ed7953"
                        ],
                        [
                          0.7777777777777778,
                          "#fb9f3a"
                        ],
                        [
                          0.8888888888888888,
                          "#fdca26"
                        ],
                        [
                          1,
                          "#f0f921"
                        ]
                      ],
                      "sequentialminus": [
                        [
                          0,
                          "#0d0887"
                        ],
                        [
                          0.1111111111111111,
                          "#46039f"
                        ],
                        [
                          0.2222222222222222,
                          "#7201a8"
                        ],
                        [
                          0.3333333333333333,
                          "#9c179e"
                        ],
                        [
                          0.4444444444444444,
                          "#bd3786"
                        ],
                        [
                          0.5555555555555556,
                          "#d8576b"
                        ],
                        [
                          0.6666666666666666,
                          "#ed7953"
                        ],
                        [
                          0.7777777777777778,
                          "#fb9f3a"
                        ],
                        [
                          0.8888888888888888,
                          "#fdca26"
                        ],
                        [
                          1,
                          "#f0f921"
                        ]
                      ]
                    },
                    "colorway": [
                      "#636efa",
                      "#EF553B",
                      "#00cc96",
                      "#ab63fa",
                      "#FFA15A",
                      "#19d3f3",
                      "#FF6692",
                      "#B6E880",
                      "#FF97FF",
                      "#FECB52"
                    ],
                    "font": {
                      "color": "#2a3f5f"
                    },
                    "geo": {
                      "bgcolor": "white",
                      "lakecolor": "white",
                      "landcolor": "#E5ECF6",
                      "showlakes": true,
                      "showland": true,
                      "subunitcolor": "white"
                    },
                    "hoverlabel": {
                      "align": "left"
                    },
                    "hovermode": "closest",
                    "mapbox": {
                      "style": "light"
                    },
                    "paper_bgcolor": "white",
                    "plot_bgcolor": "#E5ECF6",
                    "polar": {
                      "angularaxis": {
                        "gridcolor": "white",
                        "linecolor": "white",
                        "ticks": ""
                      },
                      "bgcolor": "#E5ECF6",
                      "radialaxis": {
                        "gridcolor": "white",
                        "linecolor": "white",
                        "ticks": ""
                      }
                    },
                    "scene": {
                      "xaxis": {
                        "backgroundcolor": "#E5ECF6",
                        "gridcolor": "white",
                        "gridwidth": 2,
                        "linecolor": "white",
                        "showbackground": true,
                        "ticks": "",
                        "zerolinecolor": "white"
                      },
                      "yaxis": {
                        "backgroundcolor": "#E5ECF6",
                        "gridcolor": "white",
                        "gridwidth": 2,
                        "linecolor": "white",
                        "showbackground": true,
                        "ticks": "",
                        "zerolinecolor": "white"
                      },
                      "zaxis": {
                        "backgroundcolor": "#E5ECF6",
                        "gridcolor": "white",
                        "gridwidth": 2,
                        "linecolor": "white",
                        "showbackground": true,
                        "ticks": "",
                        "zerolinecolor": "white"
                      }
                    },
                    "shapedefaults": {
                      "line": {
                        "color": "#2a3f5f"
                      }
                    },
                    "ternary": {
                      "aaxis": {
                        "gridcolor": "white",
                        "linecolor": "white",
                        "ticks": ""
                      },
                      "baxis": {
                        "gridcolor": "white",
                        "linecolor": "white",
                        "ticks": ""
                      },
                      "bgcolor": "#E5ECF6",
                      "caxis": {
                        "gridcolor": "white",
                        "linecolor": "white",
                        "ticks": ""
                      }
                    },
                    "title": {
                      "x": 0.05
                    },
                    "xaxis": {
                      "automargin": true,
                      "gridcolor": "white",
                      "linecolor": "white",
                      "ticks": "",
                      "title": {
                        "standoff": 15
                      },
                      "zerolinecolor": "white",
                      "zerolinewidth": 2
                    },
                    "yaxis": {
                      "automargin": true,
                      "gridcolor": "white",
                      "linecolor": "white",
                      "ticks": "",
                      "title": {
                        "standoff": 15
                      },
                      "zerolinecolor": "white",
                      "zerolinewidth": 2
                    }
                  }
                },
                "title": {
                  "text": "Busiest Divvy Bike Station (2019-2021)",
                  "x": 0.5,
                  "xanchor": "center",
                  "y": 0.95,
                  "yanchor": "top"
                },
                "width": 900,
                "xaxis": {
                  "anchor": "y",
                  "constrain": "domain",
                  "domain": [
                    0,
                    1
                  ],
                  "scaleanchor": "y",
                  "title": {
                    "text": "Year-Month"
                  }
                },
                "yaxis": {
                  "anchor": "x",
                  "autorange": "reversed",
                  "constrain": "domain",
                  "domain": [
                    0,
                    1
                  ],
                  "title": {
                    "text": "Divvy Station Names"
                  }
                }
              }
            }
          },
          "metadata": {},
          "output_type": "display_data"
        }
      ],
      "source": [
        "import plotly.express as px\n",
        "\n",
        "fig = px.imshow(result1, color_continuous_scale='ice_r')\n",
        "\n",
        "fig.update_layout(\n",
        "    title={\n",
        "        'text': \"Busiest Divvy Bike Station (2019-2021)\",\n",
        "        'y':0.95,\n",
        "        'x':0.5,\n",
        "        'xanchor': 'center',\n",
        "        'yanchor': 'top'},\n",
        "    autosize=False,\n",
        "    width=900,\n",
        "    height=900,\n",
        "    xaxis_title=\"Year-Month\",\n",
        "    yaxis_title=\"Divvy Station Names\"\n",
        "    )\n",
        "\n",
        "fig.show()"
      ]
    }
  ],
  "metadata": {
    "colab": {
      "name": "divvy_eda.ipynb",
      "provenance": []
    },
    "kernelspec": {
      "display_name": "Python 3.10.6 64-bit",
      "language": "python",
      "name": "python3"
    },
    "language_info": {
      "codemirror_mode": {
        "name": "ipython",
        "version": 3
      },
      "file_extension": ".py",
      "mimetype": "text/x-python",
      "name": "python",
      "nbconvert_exporter": "python",
      "pygments_lexer": "ipython3",
      "version": "3.10.6"
    },
    "vscode": {
      "interpreter": {
        "hash": "aee8b7b246df8f9039afb4144a1f6fd8d2ca17a180786b69acc140d282b71a49"
      }
    }
  },
  "nbformat": 4,
  "nbformat_minor": 0
}
